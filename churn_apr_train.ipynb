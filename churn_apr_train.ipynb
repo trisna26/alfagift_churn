{
 "cells": [
  {
   "cell_type": "code",
   "execution_count": 1,
   "id": "35ec6d7e",
   "metadata": {},
   "outputs": [],
   "source": [
    "# HIDE CODE\n",
    "from dateutil.relativedelta import relativedelta\n",
    "import matplotlib.pyplot as plt\n",
    "import matplotlib\n",
    "from matplotlib import cm\n",
    "matplotlib.rcParams.update({'font.size': 12})\n",
    "\n",
    "\n",
    "import warnings\n",
    "import sys\n",
    "import os\n",
    "sys.path.append('/home/server/gli-data-science/')\n",
    "if not sys.warnoptions:\n",
    "    warnings.simplefilter(\"ignore\")\n",
    "    os.environ[\"PYTHONWARNINGS\"] = \"ignore\" # Also affect subprocesses\n",
    "\n",
    "import os\n",
    "import ds_db\n",
    "import helper_db\n",
    "from helper import transform_to_rupiah, rupiah_format\n",
    "\n",
    "import pickle\n",
    "import pandas as pd\n",
    "import numpy as np\n",
    "\n",
    "from datetime import datetime, timedelta\n",
    "\n",
    "pd.set_option('display.max_rows', None)\n",
    "pd.set_option('display.max_columns', None)\n",
    "pd.set_option('display.width', None)\n",
    "pd.set_option('display.max_colwidth', None)\n",
    "pd.set_option('display.float_format', lambda x: '%.1f' % x)\n",
    "pd.options.mode.chained_assignment = None  # default='warn'\n",
    "from IPython.display import display, HTML, display_html, IFrame\n",
    "import ipywidgets as ipyw\n",
    "\n",
    "def side_by_side_display(dfs:list, captions:list):\n",
    "    output = \"\"\n",
    "    combined = dict(zip(captions, dfs))\n",
    "    styles = [\n",
    "        dict(selector=\"caption\", props=[(\"caption-side\", \"center\"), (\"font-size\", \"100%\"), (\"color\", )])]\n",
    "    for caption, df in combined.items():\n",
    "        output += df.style.set_table_attributes(\"style='display:inline; font-size:85%' \").set_precision(2).set_caption(caption)._repr_html_()\n",
    "        output += \"\\xa0\\xa0\\xa0\\xa0\"\n",
    "\n",
    "    display(HTML(output))\n",
    "\n",
    "    \n",
    "from sklearn.preprocessing import StandardScaler\n",
    "from sklearn.preprocessing import MinMaxScaler\n",
    "from sklearn.linear_model import LinearRegression, PoissonRegressor, Ridge, Lasso, RANSACRegressor, RidgeClassifier, LogisticRegression\n",
    "from sklearn.ensemble import RandomForestRegressor, BaggingClassifier, RandomForestClassifier, AdaBoostClassifier, GradientBoostingClassifier\n",
    "from sklearn.tree import DecisionTreeRegressor, export_text, DecisionTreeClassifier\n",
    "from sklearn.neural_network import MLPClassifier\n",
    "from sklearn.svm import SVR, SVC, LinearSVC\n",
    "import xgboost as xgb \n",
    "\n",
    "\n",
    "from joblib import dump, load\n",
    "from sklearn.model_selection import cross_val_score\n",
    "from sklearn.metrics import ConfusionMatrixDisplay\n",
    "from sklearn.metrics import accuracy_score\n",
    "from sklearn.metrics import classification_report\n",
    "from sklearn.metrics import confusion_matrix, plot_confusion_matrix\n",
    "from sklearn.model_selection import train_test_split\n",
    "\n",
    "\n",
    "import textwrap\n",
    "def split_label(list_label):\n",
    "    list_label = list(list_label)\n",
    "    list_label = [\"<br>\".join(textwrap.wrap(t, width=12)) for t in list_label ]\n",
    "    return list_label"
   ]
  },
  {
   "cell_type": "code",
   "execution_count": null,
   "id": "96ac70ef",
   "metadata": {},
   "outputs": [],
   "source": []
  },
  {
   "cell_type": "markdown",
   "id": "f4a42c57",
   "metadata": {},
   "source": [
    "### ide kasar\n",
    "> \n",
    "* daily job to loop all member alfagift 10 juta\n",
    "* compute feature trx voucher used, # of trx, # of sales\n",
    "* compute feature event app site open / view product / atc\n",
    "* updating each feature and re predict churn feature\n",
    "* lets play in month - 3 for each define trx and event feature"
   ]
  },
  {
   "cell_type": "code",
   "execution_count": null,
   "id": "0fcd3307",
   "metadata": {},
   "outputs": [],
   "source": []
  },
  {
   "cell_type": "code",
   "execution_count": null,
   "id": "4e263103",
   "metadata": {},
   "outputs": [],
   "source": []
  },
  {
   "cell_type": "code",
   "execution_count": null,
   "id": "475217e0",
   "metadata": {},
   "outputs": [],
   "source": []
  },
  {
   "cell_type": "code",
   "execution_count": null,
   "id": "4710231e",
   "metadata": {},
   "outputs": [],
   "source": []
  },
  {
   "cell_type": "code",
   "execution_count": null,
   "id": "f4d6c1db",
   "metadata": {},
   "outputs": [],
   "source": []
  },
  {
   "cell_type": "code",
   "execution_count": null,
   "id": "17fd3317",
   "metadata": {},
   "outputs": [],
   "source": []
  },
  {
   "cell_type": "code",
   "execution_count": 2,
   "id": "4dcdb474",
   "metadata": {},
   "outputs": [],
   "source": [
    "df_pv_ = pd.read_csv('./feature/pv_31Mar22.csv')\n",
    "df_pv_['EVENT_TIME'] = pd.to_datetime(df_pv_['EVENT_TIME']).dt.strftime('%Y-%m')\n",
    "\n",
    "df_pv = df_pv_.groupby(['TRO_MEMBERS','EVENT_TIME']).agg(PV=('COUNT_VIEW_PRODUCT','sum'))\\\n",
    "        .unstack(level=1).fillna(0).reset_index()\n",
    "\n",
    "df_pv.columns = [' '.join(col).strip().upper() for col in df_pv.columns.values]"
   ]
  },
  {
   "cell_type": "code",
   "execution_count": 3,
   "id": "4ae82b03",
   "metadata": {},
   "outputs": [
    {
     "data": {
      "text/html": [
       "<div>\n",
       "<style scoped>\n",
       "    .dataframe tbody tr th:only-of-type {\n",
       "        vertical-align: middle;\n",
       "    }\n",
       "\n",
       "    .dataframe tbody tr th {\n",
       "        vertical-align: top;\n",
       "    }\n",
       "\n",
       "    .dataframe thead th {\n",
       "        text-align: right;\n",
       "    }\n",
       "</style>\n",
       "<table border=\"1\" class=\"dataframe\">\n",
       "  <thead>\n",
       "    <tr style=\"text-align: right;\">\n",
       "      <th></th>\n",
       "      <th>TRO_MEMBERS</th>\n",
       "      <th>PV 2021-12</th>\n",
       "      <th>PV 2022-01</th>\n",
       "      <th>PV 2022-02</th>\n",
       "      <th>PV 2022-03</th>\n",
       "    </tr>\n",
       "  </thead>\n",
       "  <tbody>\n",
       "    <tr>\n",
       "      <th>0</th>\n",
       "      <td>9990010000001200</td>\n",
       "      <td>38.0</td>\n",
       "      <td>13.0</td>\n",
       "      <td>19.0</td>\n",
       "      <td>17.0</td>\n",
       "    </tr>\n",
       "    <tr>\n",
       "      <th>1</th>\n",
       "      <td>9990010000001771</td>\n",
       "      <td>0.0</td>\n",
       "      <td>17.0</td>\n",
       "      <td>13.0</td>\n",
       "      <td>1.0</td>\n",
       "    </tr>\n",
       "    <tr>\n",
       "      <th>2</th>\n",
       "      <td>9990010000004582</td>\n",
       "      <td>0.0</td>\n",
       "      <td>2.0</td>\n",
       "      <td>0.0</td>\n",
       "      <td>0.0</td>\n",
       "    </tr>\n",
       "    <tr>\n",
       "      <th>3</th>\n",
       "      <td>9990010000008534</td>\n",
       "      <td>0.0</td>\n",
       "      <td>1.0</td>\n",
       "      <td>1.0</td>\n",
       "      <td>2.0</td>\n",
       "    </tr>\n",
       "    <tr>\n",
       "      <th>4</th>\n",
       "      <td>9990010000010072</td>\n",
       "      <td>28.0</td>\n",
       "      <td>35.0</td>\n",
       "      <td>11.0</td>\n",
       "      <td>30.0</td>\n",
       "    </tr>\n",
       "  </tbody>\n",
       "</table>\n",
       "</div>"
      ],
      "text/plain": [
       "        TRO_MEMBERS  PV 2021-12  PV 2022-01  PV 2022-02  PV 2022-03\n",
       "0  9990010000001200        38.0        13.0        19.0        17.0\n",
       "1  9990010000001771         0.0        17.0        13.0         1.0\n",
       "2  9990010000004582         0.0         2.0         0.0         0.0\n",
       "3  9990010000008534         0.0         1.0         1.0         2.0\n",
       "4  9990010000010072        28.0        35.0        11.0        30.0"
      ]
     },
     "execution_count": 3,
     "metadata": {},
     "output_type": "execute_result"
    }
   ],
   "source": [
    "df_pv.head()"
   ]
  },
  {
   "cell_type": "code",
   "execution_count": 4,
   "id": "3384cda5",
   "metadata": {},
   "outputs": [],
   "source": [
    "df_re_g_u = pd.read_csv('./feature/rating_2022-04-01.csv')"
   ]
  },
  {
   "cell_type": "code",
   "execution_count": 5,
   "id": "ca5d4787",
   "metadata": {},
   "outputs": [
    {
     "data": {
      "text/html": [
       "<div>\n",
       "<style scoped>\n",
       "    .dataframe tbody tr th:only-of-type {\n",
       "        vertical-align: middle;\n",
       "    }\n",
       "\n",
       "    .dataframe tbody tr th {\n",
       "        vertical-align: top;\n",
       "    }\n",
       "\n",
       "    .dataframe thead th {\n",
       "        text-align: right;\n",
       "    }\n",
       "</style>\n",
       "<table border=\"1\" class=\"dataframe\">\n",
       "  <thead>\n",
       "    <tr style=\"text-align: right;\">\n",
       "      <th></th>\n",
       "      <th>TRO_MEMBERS</th>\n",
       "      <th>RATING_BELOW 2021-12</th>\n",
       "      <th>RATING_BELOW 2022-01</th>\n",
       "      <th>RATING_BELOW 2022-02</th>\n",
       "      <th>RATING_BELOW 2022-03</th>\n",
       "      <th>RATING_AVG 2021-12</th>\n",
       "      <th>RATING_AVG 2022-01</th>\n",
       "      <th>RATING_AVG 2022-02</th>\n",
       "      <th>RATING_AVG 2022-03</th>\n",
       "    </tr>\n",
       "  </thead>\n",
       "  <tbody>\n",
       "    <tr>\n",
       "      <th>0</th>\n",
       "      <td>9990010000031123</td>\n",
       "      <td>0.0</td>\n",
       "      <td>0.0</td>\n",
       "      <td>0.0</td>\n",
       "      <td>0.0</td>\n",
       "      <td>0.0</td>\n",
       "      <td>5.0</td>\n",
       "      <td>0.0</td>\n",
       "      <td>0.0</td>\n",
       "    </tr>\n",
       "    <tr>\n",
       "      <th>1</th>\n",
       "      <td>9990010000102923</td>\n",
       "      <td>0.0</td>\n",
       "      <td>0.0</td>\n",
       "      <td>0.0</td>\n",
       "      <td>0.0</td>\n",
       "      <td>0.0</td>\n",
       "      <td>0.0</td>\n",
       "      <td>0.0</td>\n",
       "      <td>5.0</td>\n",
       "    </tr>\n",
       "    <tr>\n",
       "      <th>2</th>\n",
       "      <td>9990010000169288</td>\n",
       "      <td>0.0</td>\n",
       "      <td>0.0</td>\n",
       "      <td>0.0</td>\n",
       "      <td>0.0</td>\n",
       "      <td>0.0</td>\n",
       "      <td>0.0</td>\n",
       "      <td>5.0</td>\n",
       "      <td>5.0</td>\n",
       "    </tr>\n",
       "    <tr>\n",
       "      <th>3</th>\n",
       "      <td>9990010000171652</td>\n",
       "      <td>0.0</td>\n",
       "      <td>0.0</td>\n",
       "      <td>0.0</td>\n",
       "      <td>1.0</td>\n",
       "      <td>0.0</td>\n",
       "      <td>0.0</td>\n",
       "      <td>0.0</td>\n",
       "      <td>1.0</td>\n",
       "    </tr>\n",
       "    <tr>\n",
       "      <th>4</th>\n",
       "      <td>9990010000180300</td>\n",
       "      <td>0.0</td>\n",
       "      <td>0.0</td>\n",
       "      <td>0.0</td>\n",
       "      <td>0.0</td>\n",
       "      <td>0.0</td>\n",
       "      <td>0.0</td>\n",
       "      <td>5.0</td>\n",
       "      <td>0.0</td>\n",
       "    </tr>\n",
       "  </tbody>\n",
       "</table>\n",
       "</div>"
      ],
      "text/plain": [
       "        TRO_MEMBERS  RATING_BELOW 2021-12  RATING_BELOW 2022-01  \\\n",
       "0  9990010000031123                   0.0                   0.0   \n",
       "1  9990010000102923                   0.0                   0.0   \n",
       "2  9990010000169288                   0.0                   0.0   \n",
       "3  9990010000171652                   0.0                   0.0   \n",
       "4  9990010000180300                   0.0                   0.0   \n",
       "\n",
       "   RATING_BELOW 2022-02  RATING_BELOW 2022-03  RATING_AVG 2021-12  \\\n",
       "0                   0.0                   0.0                 0.0   \n",
       "1                   0.0                   0.0                 0.0   \n",
       "2                   0.0                   0.0                 0.0   \n",
       "3                   0.0                   1.0                 0.0   \n",
       "4                   0.0                   0.0                 0.0   \n",
       "\n",
       "   RATING_AVG 2022-01  RATING_AVG 2022-02  RATING_AVG 2022-03  \n",
       "0                 5.0                 0.0                 0.0  \n",
       "1                 0.0                 0.0                 5.0  \n",
       "2                 0.0                 5.0                 5.0  \n",
       "3                 0.0                 0.0                 1.0  \n",
       "4                 0.0                 5.0                 0.0  "
      ]
     },
     "execution_count": 5,
     "metadata": {},
     "output_type": "execute_result"
    }
   ],
   "source": [
    "df_re_g_u.head()"
   ]
  },
  {
   "cell_type": "code",
   "execution_count": null,
   "id": "30e9089c",
   "metadata": {},
   "outputs": [],
   "source": []
  },
  {
   "cell_type": "code",
   "execution_count": null,
   "id": "918b3ce0",
   "metadata": {},
   "outputs": [],
   "source": []
  },
  {
   "cell_type": "code",
   "execution_count": null,
   "id": "3021a28a",
   "metadata": {},
   "outputs": [
    {
     "name": "stdout",
     "output_type": "stream",
     "text": [
      "01Dec21 01Jan22\n"
     ]
    }
   ],
   "source": [
    "# HIDE CODE\n",
    "\n",
    "## USING ORDER\n",
    "import glob\n",
    "\n",
    "df_tto = []\n",
    "for end_date in pd.date_range('2021-12-01', '2022-04-01', freq='M'):\n",
    "    start_date = end_date.replace(day=1)\n",
    "    end_date_save = start_date + relativedelta(months=1)\n",
    "    \n",
    "    start_date_str = start_date.strftime('%d%b%y')\n",
    "    end_date_str = end_date_save.strftime('%d%b%y')\n",
    "    \n",
    "    print(start_date_str, end_date_str)\n",
    "    \n",
    "    pf = '/home/server/gli-data-science/data/trans_oshop_test/{}_{}.csv'.format(start_date_str, end_date_str)\n",
    "    df_tto.append(pd.read_csv(pf, sep='\\t', dtype='object'))\n",
    "    \n",
    "df_tto = pd.concat(df_tto)\n",
    "\n",
    "# df_tto = df_tto[df_tto['TRO_MEMBERS'] != 'N']\n",
    "df_tto['TRO_DATE'] = pd.to_datetime(df_tto['TRO_DATE'])\n",
    "df_tto['TRO_NET'] = df_tto['TRO_NET'].astype('float', errors='ignore').astype('int', errors='ignore')\n",
    "\n",
    "\n",
    "df_tto['TRO_QTY'] = df_tto['TRO_QTY'].astype(int)"
   ]
  },
  {
   "cell_type": "code",
   "execution_count": null,
   "id": "9b3c6d23",
   "metadata": {},
   "outputs": [],
   "source": []
  },
  {
   "cell_type": "code",
   "execution_count": null,
   "id": "b3f04d6f",
   "metadata": {},
   "outputs": [],
   "source": []
  },
  {
   "cell_type": "code",
   "execution_count": null,
   "id": "216a759e",
   "metadata": {},
   "outputs": [],
   "source": []
  },
  {
   "cell_type": "code",
   "execution_count": null,
   "id": "afcd9e63",
   "metadata": {},
   "outputs": [],
   "source": [
    "## USE THIS FOR GET PV DATA\n",
    "\n",
    "df_mem_push = df_tto[['TRO_MEMBERS']].drop_duplicates()\n",
    "from sqlalchemy import event,create_engine,types\n",
    "\n",
    "\n",
    "\n",
    "driver = 'cx_oracle'\n",
    "server = '10.234.152.61' \n",
    "database = 'alfabi' \n",
    "username = 'report' \n",
    "password = 'justd0it'\n",
    "engine_stmt = \"oracle://%s:%s@%s/%s\" % (username, password, server, database )\n",
    "\n",
    "engine = create_engine(engine_stmt)\n",
    "\n",
    "df = df_mem_push.astype(str)\n",
    "dtyp = {c:types.VARCHAR(df[c].str.len().max()) for c in df.columns[df.dtypes == 'object'].tolist()}\n",
    "df.to_sql('temp_churn', engine, index=False, if_exists=\"replace\", dtype=dtyp)\n",
    "\n",
    "engine.dispose()\n",
    "\n",
    "\n",
    "\n"
   ]
  },
  {
   "cell_type": "code",
   "execution_count": null,
   "id": "0247480c",
   "metadata": {},
   "outputs": [],
   "source": []
  },
  {
   "cell_type": "code",
   "execution_count": null,
   "id": "3ecf6850",
   "metadata": {},
   "outputs": [],
   "source": []
  },
  {
   "cell_type": "code",
   "execution_count": null,
   "id": "73130088",
   "metadata": {},
   "outputs": [],
   "source": []
  },
  {
   "cell_type": "code",
   "execution_count": null,
   "id": "b57db1a1",
   "metadata": {},
   "outputs": [],
   "source": []
  },
  {
   "cell_type": "code",
   "execution_count": null,
   "id": "b2f1723e",
   "metadata": {},
   "outputs": [],
   "source": []
  },
  {
   "cell_type": "code",
   "execution_count": null,
   "id": "9a893b4d",
   "metadata": {},
   "outputs": [],
   "source": []
  },
  {
   "cell_type": "code",
   "execution_count": null,
   "id": "c68dac59",
   "metadata": {},
   "outputs": [],
   "source": []
  },
  {
   "cell_type": "code",
   "execution_count": null,
   "id": "f08f0dd5",
   "metadata": {},
   "outputs": [],
   "source": []
  },
  {
   "cell_type": "code",
   "execution_count": null,
   "id": "0f3966cb",
   "metadata": {},
   "outputs": [],
   "source": []
  },
  {
   "cell_type": "code",
   "execution_count": null,
   "id": "72d2ad8c",
   "metadata": {},
   "outputs": [],
   "source": []
  },
  {
   "cell_type": "code",
   "execution_count": null,
   "id": "9d24561f",
   "metadata": {},
   "outputs": [],
   "source": []
  },
  {
   "cell_type": "code",
   "execution_count": null,
   "id": "c142bb00",
   "metadata": {},
   "outputs": [],
   "source": []
  },
  {
   "cell_type": "code",
   "execution_count": null,
   "id": "1bba5db6",
   "metadata": {},
   "outputs": [],
   "source": []
  },
  {
   "cell_type": "code",
   "execution_count": null,
   "id": "28b26a90",
   "metadata": {},
   "outputs": [],
   "source": []
  },
  {
   "cell_type": "code",
   "execution_count": null,
   "id": "0e733446",
   "metadata": {},
   "outputs": [],
   "source": []
  },
  {
   "cell_type": "code",
   "execution_count": null,
   "id": "2cc0be56",
   "metadata": {},
   "outputs": [],
   "source": []
  },
  {
   "cell_type": "code",
   "execution_count": null,
   "id": "5d48f20a",
   "metadata": {},
   "outputs": [],
   "source": []
  },
  {
   "cell_type": "code",
   "execution_count": null,
   "id": "ec669d22",
   "metadata": {},
   "outputs": [],
   "source": []
  },
  {
   "cell_type": "code",
   "execution_count": null,
   "id": "05ebeab3",
   "metadata": {},
   "outputs": [],
   "source": []
  },
  {
   "cell_type": "code",
   "execution_count": null,
   "id": "d8d8e391",
   "metadata": {},
   "outputs": [],
   "source": [
    "df_tto['TRO_VOUCHER_USAGE'] = df_tto['TRO_VOUCHER_USAGE']\\\n",
    "                            .astype('float', errors='ignore').astype('int', errors='ignore')\n",
    "df_tto['TRO_DH_SPESIAL'] = df_tto['TRO_DH_SPESIAL']\\\n",
    "                            .astype('float', errors='ignore').astype('int', errors='ignore')\n",
    "\n",
    "\n",
    "df_tto_sel = df_tto[(df_tto['TRO_DATE'] >= '2021-12-01') \\\n",
    "            & (df_tto['TRO_DATE'] <= '2022-03-31')]"
   ]
  },
  {
   "cell_type": "code",
   "execution_count": null,
   "id": "3d25f345",
   "metadata": {},
   "outputs": [],
   "source": []
  },
  {
   "cell_type": "code",
   "execution_count": null,
   "id": "9ad444be",
   "metadata": {},
   "outputs": [],
   "source": []
  },
  {
   "cell_type": "code",
   "execution_count": null,
   "id": "3263a1a1",
   "metadata": {},
   "outputs": [],
   "source": []
  },
  {
   "cell_type": "code",
   "execution_count": null,
   "id": "90277ad8",
   "metadata": {},
   "outputs": [],
   "source": []
  },
  {
   "cell_type": "code",
   "execution_count": null,
   "id": "7d2dc209",
   "metadata": {},
   "outputs": [],
   "source": []
  },
  {
   "cell_type": "code",
   "execution_count": null,
   "id": "7a1105d0",
   "metadata": {},
   "outputs": [],
   "source": []
  },
  {
   "cell_type": "code",
   "execution_count": null,
   "id": "10daaa1f",
   "metadata": {},
   "outputs": [],
   "source": [
    "df_sla = pd.read_csv('./feature/sla_31Mar22.csv')\n",
    "df_sla['ATT_SEND_DATE_TOSTORE'] = pd.to_datetime(df_sla['ATT_SEND_DATE_TOSTORE'])\n",
    "df_sla['SLA'] = np.where(df_sla['SLA_NORM']< 0, 20, df_sla['SLA_NORM'])\n",
    "\n",
    "df_tto_sel = pd.merge(df_tto_sel, df_sla, left_on='TRO_NO_ORDER', right_on='ATT_ORDER_ID', how='left')\n",
    "\n",
    "col_drop = [\n",
    "    'ATT_ORDER_ID',\n",
    "    'ATT_ORDER_DATE',\n",
    "    'ATT_DELIVERY_DATE',\n",
    "    'ATT_SEND_DATE_TOSTORE',\n",
    "    'SLA_NORM'        \n",
    "]\n",
    "df_tto_sel = df_tto_sel.drop(col_drop,1)\n",
    "\n",
    "## create feature\n",
    "df_tto_sel['SLA'] = df_tto_sel['SLA'].fillna(20)\n",
    "df_tto_sel['SLA_LATE'] = np.where(df_tto_sel['SLA'] > 60, 1,0)"
   ]
  },
  {
   "cell_type": "code",
   "execution_count": null,
   "id": "c9332b20",
   "metadata": {},
   "outputs": [],
   "source": []
  },
  {
   "cell_type": "code",
   "execution_count": null,
   "id": "40e784f1",
   "metadata": {},
   "outputs": [],
   "source": []
  },
  {
   "cell_type": "code",
   "execution_count": null,
   "id": "ab5e4264",
   "metadata": {},
   "outputs": [],
   "source": []
  },
  {
   "cell_type": "code",
   "execution_count": null,
   "id": "75eb7441",
   "metadata": {},
   "outputs": [],
   "source": []
  },
  {
   "cell_type": "code",
   "execution_count": null,
   "id": "6f1bebfc",
   "metadata": {},
   "outputs": [],
   "source": []
  },
  {
   "cell_type": "code",
   "execution_count": null,
   "id": "60accbd0",
   "metadata": {},
   "outputs": [],
   "source": [
    "q = '''\n",
    "SELECT \n",
    "\ttc.TRO_MEMBERS, \n",
    "\t(TO_DATE('2022/03/08', 'yyyy/mm/dd')) - zt.tgl_registrasi AS SINCE_REGIS\n",
    "FROM \n",
    "\tTEMP_CHURN tc\n",
    "LEFT JOIN (\n",
    "\tselect \n",
    "\t\tchar1 no_member, char4 jenis_kelamin, char5 status_nikah, date1 tgl_lahir, date2 tgl_registrasi\n",
    "\tfrom \n",
    "\t\treport.ztampungan\n",
    "\twhere \n",
    "\t\tpk='MEMBERALFAGIFT2'\n",
    ") zt ON zt.no_member = tc.TRO_MEMBERS \n",
    "\n",
    "'''\n",
    "\n",
    "con = ds_db.connect_alfabi()\n",
    "\n",
    "df_regis = pd.read_sql_query(q, con)\n",
    "\n",
    "con.close()"
   ]
  },
  {
   "cell_type": "code",
   "execution_count": null,
   "id": "0dae1210",
   "metadata": {},
   "outputs": [],
   "source": [
    "df_regis['SINCE_REGIS'] = df_regis['SINCE_REGIS'].fillna('-1')"
   ]
  },
  {
   "cell_type": "code",
   "execution_count": null,
   "id": "70d67ce3",
   "metadata": {},
   "outputs": [],
   "source": []
  },
  {
   "cell_type": "code",
   "execution_count": null,
   "id": "95bc95d0",
   "metadata": {},
   "outputs": [],
   "source": []
  },
  {
   "cell_type": "code",
   "execution_count": null,
   "id": "bee913fd",
   "metadata": {},
   "outputs": [],
   "source": []
  },
  {
   "cell_type": "code",
   "execution_count": null,
   "id": "ca81ab2e",
   "metadata": {},
   "outputs": [],
   "source": []
  },
  {
   "cell_type": "code",
   "execution_count": null,
   "id": "eaa93dc7",
   "metadata": {},
   "outputs": [],
   "source": [
    "df_tto_sel_g = df_tto_sel.groupby(['TRO_MEMBERS','TRO_DATE_MONTH','TRO_NO_ORDER'])\\\n",
    "                        .agg({'TRO_NET':'sum',\n",
    "                              'TRO_DH_SPESIAL':'sum',\n",
    "                              'TRO_NO_ORDER':'nunique',\n",
    "                              'SLA':'first',\n",
    "                              'SLA_LATE':'first',\n",
    "                              'TRO_VOUCHER_USAGE':'sum',\n",
    "                              'TRO_PAYMENT_METHOD':'first'\n",
    "                             })\n",
    "df_tto_sel_g = df_tto_sel_g.groupby(['TRO_MEMBERS','TRO_DATE_MONTH'])\\\n",
    "                        .agg({'TRO_NET':'sum',\n",
    "                              'TRO_DH_SPESIAL':'sum',\n",
    "                              'TRO_NO_ORDER':'sum',\n",
    "                              'SLA':'sum',\n",
    "                              'SLA_LATE':'sum',\n",
    "                              'TRO_VOUCHER_USAGE':'sum',\n",
    "                              'TRO_PAYMENT_METHOD':'nunique'\n",
    "                             })"
   ]
  },
  {
   "cell_type": "code",
   "execution_count": null,
   "id": "5421302b",
   "metadata": {},
   "outputs": [],
   "source": []
  },
  {
   "cell_type": "code",
   "execution_count": null,
   "id": "311458ef",
   "metadata": {},
   "outputs": [],
   "source": []
  },
  {
   "cell_type": "markdown",
   "id": "9e44be86",
   "metadata": {},
   "source": [
    "## unstack all feature in oshop"
   ]
  },
  {
   "cell_type": "code",
   "execution_count": null,
   "id": "a6261d6b",
   "metadata": {},
   "outputs": [],
   "source": [
    "df_tto_sel_g_u = df_tto_sel_g.unstack(level=1).fillna(0).reset_index()\n",
    "df_tto_sel_g_u.columns = [' '.join(col).strip().upper() for col in df_tto_sel_g_u.columns.values]"
   ]
  },
  {
   "cell_type": "code",
   "execution_count": null,
   "id": "a337755f",
   "metadata": {},
   "outputs": [],
   "source": []
  },
  {
   "cell_type": "code",
   "execution_count": null,
   "id": "be6e5db1",
   "metadata": {},
   "outputs": [],
   "source": []
  },
  {
   "cell_type": "code",
   "execution_count": null,
   "id": "bdd0f537",
   "metadata": {},
   "outputs": [],
   "source": []
  },
  {
   "cell_type": "markdown",
   "id": "23011126",
   "metadata": {},
   "source": [
    "## merge with rating"
   ]
  },
  {
   "cell_type": "code",
   "execution_count": null,
   "id": "9a8c394f",
   "metadata": {},
   "outputs": [],
   "source": [
    "df_re_g_u['TRO_MEMBERS'] = df_re_g_u['TRO_MEMBERS'].astype(str)\n",
    "df_tto_re = pd.merge(df_tto_sel_g_u, df_re_g_u, on='TRO_MEMBERS', how='left').fillna(0)"
   ]
  },
  {
   "cell_type": "code",
   "execution_count": null,
   "id": "8b90733c",
   "metadata": {},
   "outputs": [],
   "source": []
  },
  {
   "cell_type": "markdown",
   "id": "4df1459c",
   "metadata": {},
   "source": [
    "## merge with product view"
   ]
  },
  {
   "cell_type": "code",
   "execution_count": null,
   "id": "90b6c588",
   "metadata": {},
   "outputs": [],
   "source": [
    "df_pv['TRO_MEMBERS'] = df_pv['TRO_MEMBERS'].astype(str)\n",
    "df_tto_re_pv = pd.merge(df_tto_re, df_pv, on='TRO_MEMBERS', how='left').fillna(0)"
   ]
  },
  {
   "cell_type": "code",
   "execution_count": null,
   "id": "9ddbea6a",
   "metadata": {},
   "outputs": [],
   "source": []
  },
  {
   "cell_type": "markdown",
   "id": "d4b93533",
   "metadata": {},
   "source": [
    "## merge with regis"
   ]
  },
  {
   "cell_type": "code",
   "execution_count": null,
   "id": "43dcb963",
   "metadata": {},
   "outputs": [],
   "source": [
    "df_tto_re_pv = pd.merge(df_tto_re_pv, df_regis, on='TRO_MEMBERS')\n",
    "df_tto_re_pv = df_tto_re_pv[df_tto_re_pv['SINCE_REGIS'].astype(int) > 0]"
   ]
  },
  {
   "cell_type": "code",
   "execution_count": null,
   "id": "1edcad4a",
   "metadata": {},
   "outputs": [],
   "source": [
    "df_tto_re_pv.head()"
   ]
  },
  {
   "cell_type": "code",
   "execution_count": null,
   "id": "7f2c540c",
   "metadata": {},
   "outputs": [],
   "source": []
  },
  {
   "cell_type": "code",
   "execution_count": null,
   "id": "2c176dd4",
   "metadata": {},
   "outputs": [],
   "source": []
  },
  {
   "cell_type": "code",
   "execution_count": null,
   "id": "2ac58d7e",
   "metadata": {},
   "outputs": [],
   "source": [
    "# df_tto_re_pv['NET 11-10'] = df_tto_re_pv['TRO_NET 2021-11'] - df_tto_re_pv['TRO_NET 2021-10']\n",
    "# df_tto_re_pv['NET 10-09'] = df_tto_re_pv['TRO_NET 2021-10'] - df_tto_re_pv['TRO_NET 2021-09']\n",
    "# df_tto_re_pv['NET 11-09'] = df_tto_re_pv['TRO_NET 2021-11'] - df_tto_re_pv['TRO_NET 2021-09']\n",
    "\n",
    "# df_tto_re_pv['STRUK 11-10'] = df_tto_re_pv['TRO_NO_ORDER 2021-11'] - df_tto_re_pv['TRO_NO_ORDER 2021-10']\n",
    "# df_tto_re_pv['STRUK 10-09'] = df_tto_re_pv['TRO_NO_ORDER 2021-10'] - df_tto_re_pv['TRO_NO_ORDER 2021-09']\n",
    "# df_tto_re_pv['STRUK 11-09'] = df_tto_re_pv['TRO_NO_ORDER 2021-11'] - df_tto_re_pv['TRO_NO_ORDER 2021-09']\n",
    "\n",
    "# df_tto_re_pv['PV 11-10'] = df_tto_re_pv['PV 2021-11'] - df_tto_re_pv['PV 2021-10']\n",
    "# df_tto_re_pv['PV 10-09'] = df_tto_re_pv['PV 2021-10'] - df_tto_re_pv['PV 2021-09']\n",
    "# df_tto_re_pv['PV 11-09'] = df_tto_re_pv['PV 2021-11'] - df_tto_re_pv['PV 2021-09']\n",
    "\n",
    "# df_tto_re_pv['SLA 11-10'] = df_tto_re_pv['SLA 2021-11'] - df_tto_re_pv['SLA 2021-10']\n",
    "# df_tto_re_pv['SLA 10-09'] = df_tto_re_pv['SLA 2021-10'] - df_tto_re_pv['SLA 2021-09']\n",
    "# df_tto_re_pv['SLA 11-09'] = df_tto_re_pv['SLA 2021-11'] - df_tto_re_pv['SLA 2021-09']\n",
    "\n",
    "# df_tto_re_pv['BASKET 11'] = df_tto_re_pv['TRO_NET 2021-11']/df_tto_re_pv['TRO_NO_ORDER 2021-11']\n",
    "# df_tto_re_pv['BASKET 10'] = df_tto_re_pv['TRO_NET 2021-10']/df_tto_re_pv['TRO_NO_ORDER 2021-10']\n",
    "# df_tto_re_pv['BASKET 09'] = df_tto_re_pv['TRO_NET 2021-09']/df_tto_re_pv['TRO_NO_ORDER 2021-09']\n",
    "\n",
    "# df_tto_re_pv['BASKET AVG'] = (df_tto_re_pv['BASKET 11'] + df_tto_re_pv['BASKET 10'] + df_tto_re_pv['BASKET 09']) / 3"
   ]
  },
  {
   "cell_type": "code",
   "execution_count": null,
   "id": "55529009",
   "metadata": {},
   "outputs": [],
   "source": [
    "# print(df_ins[df_ins['label'] == 1]['NET_11-10'].median())\n",
    "# print(df_ins[df_ins['label'] == 1]['NET_10-09'].median())\n",
    "# print(df_ins[df_ins['label'] == 1]['NET_11-09'].median())\n",
    "# print(df_ins[df_ins['label'] == 1]['STRUK_11-10'].mean())\n",
    "# print(df_ins[df_ins['label'] == 1]['STRUK_10-09'].mean())\n",
    "# print(df_ins[df_ins['label'] == 1]['STRUK_11-09'].mean())"
   ]
  },
  {
   "cell_type": "code",
   "execution_count": null,
   "id": "f1c15722",
   "metadata": {},
   "outputs": [],
   "source": []
  },
  {
   "cell_type": "code",
   "execution_count": null,
   "id": "250766e2",
   "metadata": {},
   "outputs": [],
   "source": []
  },
  {
   "cell_type": "code",
   "execution_count": null,
   "id": "e69aa8a0",
   "metadata": {},
   "outputs": [],
   "source": []
  },
  {
   "cell_type": "code",
   "execution_count": null,
   "id": "7e8870d4",
   "metadata": {},
   "outputs": [],
   "source": []
  },
  {
   "cell_type": "code",
   "execution_count": null,
   "id": "4064f903",
   "metadata": {},
   "outputs": [],
   "source": []
  },
  {
   "cell_type": "markdown",
   "id": "e5fac8ad",
   "metadata": {},
   "source": [
    "## Random Forest"
   ]
  },
  {
   "cell_type": "markdown",
   "id": "b8e0bf14",
   "metadata": {},
   "source": [
    "### not oversampling version without threshold 2/3 or 3/3"
   ]
  },
  {
   "cell_type": "code",
   "execution_count": null,
   "id": "7714ed4f",
   "metadata": {
    "scrolled": false
   },
   "outputs": [],
   "source": [
    "from sklearn.model_selection import StratifiedKFold\n",
    "condition_2_3 = (\n",
    "((df_tto_re_pv['TRO_NET 2021-12'] > 0) & \\\n",
    "(df_tto_re_pv['TRO_NET 2022-01'] > 0) & \\\n",
    "(df_tto_re_pv['TRO_NET 2022-02'] > 0) & \\\n",
    "(df_tto_re_pv['TRO_NET 2022-03'] == 0)) | \\\n",
    "    \n",
    "((df_tto_re_pv['TRO_NET 2021-12'] > 0) & \\\n",
    "(df_tto_re_pv['TRO_NET 2022-01'] == 0) & \\\n",
    "(df_tto_re_pv['TRO_NET 2022-02'] > 0) & \\\n",
    "(df_tto_re_pv['TRO_NET 2022-03'] == 0)) |\n",
    "    \n",
    "((df_tto_re_pv['TRO_NET 2021-12'] == 0) & \\\n",
    "(df_tto_re_pv['TRO_NET 2022-01'] > 0) & \\\n",
    "(df_tto_re_pv['TRO_NET 2022-02'] > 0) & \\\n",
    "(df_tto_re_pv['TRO_NET 2022-03'] == 0))\n",
    ")\n",
    "\n",
    "condition_3_3 = ( \n",
    "          (df_tto_re_pv['TRO_NET 2021-12'] > 0) & \\\n",
    "          (df_tto_re_pv['TRO_NET 2022-01'] > 0) & \\\n",
    "          (df_tto_re_pv['TRO_NET 2022-02'] > 0) & \\\n",
    "          (df_tto_re_pv['TRO_NET 2022-03'] == 0) \n",
    ")\n",
    "\n",
    "\n",
    "\n",
    "df_tto_re_pv['label'] = np.where(condition_3_3, 1, 0)\n",
    "\n",
    "\n",
    "X = df_tto_re_pv.drop(\n",
    "[\n",
    "'TRO_MEMBERS',\n",
    "'TRO_NET 2022-03', \n",
    "'TRO_DH_SPESIAL 2022-03',\n",
    "'TRO_NO_ORDER 2022-03',\n",
    "'SLA 2022-03',\n",
    "'SLA_LATE 2022-03',\n",
    "'RATING_BELOW 2022-03',\n",
    "'RATING_AVG 2022-03',\n",
    "'PV 2022-03',\n",
    "'TRO_VOUCHER_USAGE 2022-03',\n",
    "'TRO_PAYMENT_METHOD 2022-03',\n",
    "'label'\n",
    "], 1\n",
    ")\n",
    "y = df_tto_re_pv[['label']]\n",
    "\n",
    "\n",
    "# X['NET-1'] = X.iloc[:,2] - X.iloc[:,1]\n",
    "# X['NET-2'] = X.iloc[:,1] - X.iloc[:,0]\n",
    "\n",
    "\n",
    "# X['ORDER-1'] = X.iloc[:,8] - X.iloc[:,7]\n",
    "# X['ORDER-2'] = X.iloc[:,7] - X.iloc[:,6]\n",
    "\n",
    "\n",
    "# X['SLA-1'] = X.iloc[:,11] - X.iloc[:,10]\n",
    "# X['SLA-2'] = X.iloc[:,10] - X.iloc[:,9]\n",
    "\n",
    "\n",
    "# X['PV-1'] = X.iloc[:,29] - X.iloc[:,28]\n",
    "# X['PV-2'] = X.iloc[:,28] - X.iloc[:,27]\n",
    "\n",
    "\n",
    "# skf = StratifiedKFold(n_splits=5)\n",
    "# for train_index, test_index in skf.split(X, y):\n",
    "#     print(\"=\"*50)\n",
    "#     X_train, X_test = X.iloc[train_index,:], X.iloc[test_index,:]\n",
    "#     y_train, y_test = y.iloc[train_index,:], y.iloc[test_index,:]\n",
    "\n",
    "\n",
    "    \n",
    "#     ## applying standard scaler\n",
    "#     scaler = StandardScaler()\n",
    "#     scaler.fit(X_train)\n",
    "#     X_train = pd.DataFrame(scaler.transform(X_train), index=X_train.index, columns=X_train.columns)\n",
    "#     X_test = pd.DataFrame(scaler.transform(X_test), index=X_test.index, columns=X_train.columns)\n",
    "    \n",
    "\n",
    "#     #clf_ridge = RandomForestClassifier(random_state=42) \n",
    "#     clf_ridge = MLPClassifier(random_state=1, max_iter=300, hidden_layer_sizes=(70,))\n",
    "#     clf_ridge.fit(X_train, y_train) \n",
    "#     pred = clf_ridge.predict(X_test)\n",
    "#     print(classification_report(y_test, pred))\n",
    "#     fig, ax = plt.subplots(figsize=(5, 5), dpi=100)\n",
    "#     ConfusionMatrixDisplay.from_predictions(y_test, pred, \n",
    "#                                             cmap='Blues', display_labels= ['not_churn', 'churn'], \n",
    "#                                             ax = ax, values_format = 'd')\n",
    "\n",
    "\n",
    "\n",
    "\n",
    "# applying standard scaler\n",
    "scaler = StandardScaler()\n",
    "scaler.fit(X)\n",
    "X = pd.DataFrame(scaler.transform(X), index=X.index, columns=X.columns)\n",
    "dump(scaler, './model/scaler_70_mar22_3_3.joblib')\n",
    "\n",
    "\n",
    "clf_all_mlp = MLPClassifier(random_state=1, max_iter=300, hidden_layer_sizes=(70,))\n",
    "clf_all_mlp.fit(X, y) \n",
    "dump(clf_all_mlp, './model/mlp_70_mar22_3_3.joblib')\n"
   ]
  },
  {
   "cell_type": "code",
   "execution_count": null,
   "id": "f04fa219",
   "metadata": {},
   "outputs": [],
   "source": []
  },
  {
   "cell_type": "code",
   "execution_count": null,
   "id": "bb28bd8f",
   "metadata": {},
   "outputs": [],
   "source": []
  },
  {
   "cell_type": "code",
   "execution_count": null,
   "id": "64c0cd3b",
   "metadata": {},
   "outputs": [],
   "source": []
  },
  {
   "cell_type": "code",
   "execution_count": null,
   "id": "ad7098a4",
   "metadata": {},
   "outputs": [],
   "source": []
  },
  {
   "cell_type": "code",
   "execution_count": null,
   "id": "8303c9bc",
   "metadata": {},
   "outputs": [],
   "source": []
  },
  {
   "cell_type": "code",
   "execution_count": null,
   "id": "688e1afd",
   "metadata": {},
   "outputs": [],
   "source": []
  },
  {
   "cell_type": "code",
   "execution_count": null,
   "id": "b1ac7816",
   "metadata": {},
   "outputs": [],
   "source": []
  },
  {
   "cell_type": "code",
   "execution_count": null,
   "id": "0f2e271f",
   "metadata": {},
   "outputs": [],
   "source": []
  },
  {
   "cell_type": "code",
   "execution_count": null,
   "id": "8ea28e62",
   "metadata": {},
   "outputs": [],
   "source": [
    "# a = pd.DataFrame()\n",
    "\n",
    "# a['NET 11-10'] = df_tto_re_pv['TRO_NET 2021-12'] - df_tto_re_pv['TRO_NET 2021-11']\n",
    "# a['NET 10-09'] = df_tto_re_pv['TRO_NET 2021-11'] - df_tto_re_pv['TRO_NET 2021-10']\n",
    "# a['NET 11-09'] = df_tto_re_pv['TRO_NET 2021-12'] - df_tto_re_pv['TRO_NET 2021-10']\n",
    "\n",
    "# a['STRUK 11-10'] = df_tto_re_pv['TRO_NO_ORDER 2021-12'] - df_tto_re_pv['TRO_NO_ORDER 2021-11']\n",
    "# a['STRUK 10-09'] = df_tto_re_pv['TRO_NO_ORDER 2021-11'] - df_tto_re_pv['TRO_NO_ORDER 2021-10']\n",
    "# a['STRUK 11-09'] = df_tto_re_pv['TRO_NO_ORDER 2021-12'] - df_tto_re_pv['TRO_NO_ORDER 2021-10']\n",
    "\n",
    "# a['PV 11-10'] = df_tto_re_pv['PV 2021-12'] - df_tto_re_pv['PV 2021-11']\n",
    "# a['PV 10-09'] = df_tto_re_pv['PV 2021-11'] - df_tto_re_pv['PV 2021-10']\n",
    "# a['PV 11-09'] = df_tto_re_pv['PV 2021-12'] - df_tto_re_pv['PV 2021-10']\n",
    "\n",
    "# a['SLA 11-10'] = df_tto_re_pv['SLA 2021-12'] - df_tto_re_pv['SLA 2021-11']\n",
    "# a['SLA 10-09'] = df_tto_re_pv['SLA 2021-11'] - df_tto_re_pv['SLA 2021-10']\n",
    "# a['SLA 11-09'] = df_tto_re_pv['SLA 2021-12'] - df_tto_re_pv['SLA 2021-10']\n",
    "\n",
    "# a['BASKET 11'] = df_tto_re_pv['TRO_NET 2021-12']/df_tto_re_pv['TRO_NO_ORDER 2021-12']\n",
    "# a['BASKET 10'] = df_tto_re_pv['TRO_NET 2021-11']/df_tto_re_pv['TRO_NO_ORDER 2021-11']\n",
    "# a['BASKET 09'] = df_tto_re_pv['TRO_NET 2021-10']/df_tto_re_pv['TRO_NO_ORDER 2021-10']\n",
    "\n",
    "# a['BASKET AVG'] = (df_tto_re_pv['BASKET 11'] + df_tto_re_pv['BASKET 10'] + df_tto_re_pv['BASKET 09']) / 3"
   ]
  },
  {
   "cell_type": "code",
   "execution_count": null,
   "id": "fd85eb95",
   "metadata": {},
   "outputs": [],
   "source": [
    "X_12 = df_tto_re_pv.drop(\n",
    "[\n",
    "'TRO_MEMBERS',\n",
    "'TRO_NET 2021-12', \n",
    "'TRO_DH_SPESIAL 2021-12',\n",
    "'TRO_NO_ORDER 2021-12',\n",
    "'SLA 2021-12',\n",
    "'SLA_LATE 2021-12',\n",
    "'RATING_BELOW 2021-12',\n",
    "'RATING_AVG 2021-12',\n",
    "'PV 2021-12',\n",
    "'TRO_VOUCHER_USAGE 2021-12',\n",
    "'TRO_PAYMENT_METHOD 2021-12',\n",
    "'label'\n",
    "], 1\n",
    ")\n",
    "X_12['SINCE_REGIS'] = X_12['SINCE_REGIS']+30\n",
    "\n",
    "# X_12 = pd.concat([X_12.iloc[:,0:-16],a],1)\n",
    "# X_12 = X_12.fillna(0)\n",
    "# y_12 = df_tto_re_pv['label']"
   ]
  },
  {
   "cell_type": "code",
   "execution_count": null,
   "id": "18ed4970",
   "metadata": {},
   "outputs": [],
   "source": [
    "# X_12.head()"
   ]
  },
  {
   "cell_type": "code",
   "execution_count": null,
   "id": "2d96992f",
   "metadata": {},
   "outputs": [],
   "source": []
  },
  {
   "cell_type": "code",
   "execution_count": null,
   "id": "dc12bf93",
   "metadata": {},
   "outputs": [],
   "source": []
  },
  {
   "cell_type": "code",
   "execution_count": null,
   "id": "bb949b21",
   "metadata": {},
   "outputs": [],
   "source": []
  },
  {
   "cell_type": "code",
   "execution_count": null,
   "id": "254046b8",
   "metadata": {},
   "outputs": [],
   "source": [
    "\n",
    "\n",
    "scaler_all = load('./model/scaler_70_mar22_3_3.joblib')\n",
    "clf_all = load('./model/mlp_70_mar22_3_3.joblib')\n",
    "\n",
    "\n",
    "X_12_scale = pd.DataFrame(scaler_all.transform(X_12), index=X_12.index, columns=X_12.columns)\n",
    "pred = (clf_all.predict_proba(X_12_scale)[:,1] >= 0.5).astype(int)\n",
    "\n",
    "\n",
    "df_mem_12 = pd.concat([df_tto_re_pv[['TRO_MEMBERS']].reset_index(drop=True)\n",
    "                       , pd.DataFrame(pred, columns=['PRED'])], 1)"
   ]
  },
  {
   "cell_type": "code",
   "execution_count": null,
   "id": "9f46d6f5",
   "metadata": {},
   "outputs": [],
   "source": []
  },
  {
   "cell_type": "code",
   "execution_count": null,
   "id": "6aa09cfe",
   "metadata": {},
   "outputs": [],
   "source": []
  },
  {
   "cell_type": "code",
   "execution_count": null,
   "id": "b72abb98",
   "metadata": {},
   "outputs": [],
   "source": []
  },
  {
   "cell_type": "code",
   "execution_count": null,
   "id": "f15a606b",
   "metadata": {},
   "outputs": [],
   "source": [
    "print(\"PREDICTION RESULT {}\".format(df_mem_12[df_mem_12['PRED'] == 1].shape))"
   ]
  },
  {
   "cell_type": "code",
   "execution_count": null,
   "id": "aec29d65",
   "metadata": {},
   "outputs": [],
   "source": []
  },
  {
   "cell_type": "code",
   "execution_count": null,
   "id": "a3aeec80",
   "metadata": {},
   "outputs": [],
   "source": [
    "df_trader = pd.read_excel('/home/server/gli-data-science/ferina/Sales Trader Ytd Aug-ExEmployee.xlsx'\n",
    "                          , dtype='object', names=['member','stat'])"
   ]
  },
  {
   "cell_type": "code",
   "execution_count": null,
   "id": "41e98545",
   "metadata": {},
   "outputs": [],
   "source": [
    "df_mem_12 = df_mem_12[~df_mem_12['TRO_MEMBERS'].isin(df_trader['member'])]"
   ]
  },
  {
   "cell_type": "code",
   "execution_count": null,
   "id": "dfbe5f1b",
   "metadata": {},
   "outputs": [],
   "source": [
    "print(\"AFTER REMOVE TRADER {}\".format(df_mem_12[df_mem_12['PRED'] == 1].shape))"
   ]
  },
  {
   "cell_type": "code",
   "execution_count": null,
   "id": "fbe9e2cc",
   "metadata": {},
   "outputs": [],
   "source": []
  },
  {
   "cell_type": "code",
   "execution_count": null,
   "id": "a1939d0d",
   "metadata": {},
   "outputs": [],
   "source": []
  },
  {
   "cell_type": "code",
   "execution_count": null,
   "id": "2c8b9fe0",
   "metadata": {},
   "outputs": [],
   "source": []
  },
  {
   "cell_type": "code",
   "execution_count": null,
   "id": "a386e8d4",
   "metadata": {},
   "outputs": [],
   "source": [
    "from sqlalchemy import event,create_engine,types\n",
    "\n",
    "\n",
    "\n",
    "driver = 'cx_oracle'\n",
    "server = '10.234.152.61' \n",
    "database = 'alfabi' \n",
    "username = 'report' \n",
    "password = 'justd0it'\n",
    "engine_stmt = \"oracle://%s:%s@%s/%s\" % (username, password, server, database )\n",
    "\n",
    "engine = create_engine(engine_stmt)\n",
    "\n",
    "df = df_mem_12[df_mem_12['PRED'] == 1].astype(str)\n",
    "dtyp = {c:types.VARCHAR(df[c].str.len().max()) for c in df.columns[df.dtypes == 'object'].tolist()}\n",
    "df.to_sql('temp_churn_target', engine, index=False, if_exists=\"replace\", dtype=dtyp)\n",
    "\n",
    "engine.dispose()"
   ]
  },
  {
   "cell_type": "code",
   "execution_count": null,
   "id": "0d924032",
   "metadata": {},
   "outputs": [],
   "source": []
  },
  {
   "cell_type": "code",
   "execution_count": null,
   "id": "03e3938a",
   "metadata": {},
   "outputs": [],
   "source": []
  },
  {
   "cell_type": "code",
   "execution_count": null,
   "id": "d691a70e",
   "metadata": {},
   "outputs": [],
   "source": []
  },
  {
   "cell_type": "code",
   "execution_count": null,
   "id": "dd173262",
   "metadata": {},
   "outputs": [],
   "source": [
    "q = '''\n",
    "SELECT DISTINCT(tct.TRO_MEMBERS)\n",
    "FROM TEMP_CHURN_TARGET tct\n",
    "WHERE \n",
    "tct.TRO_MEMBERS NOT IN (\n",
    "\tSELECT rto.TRO_MEMBERS\n",
    "\tFROM RPT_TRANS_OSHOP rto  \n",
    "\tWHERE rto.TRO_DATE BETWEEN '1-apr-22' AND '30-apr-22'\n",
    ")\n",
    "AND tct.TRO_MEMBERS NOT IN (\n",
    "\tSELECT \n",
    "\t\tgua.GUA_ACCOUNT_CARD_ADJ\n",
    "\tFROM GLI_UNINSTALL_ALFAGIFT gua \n",
    "\tWHERE \n",
    "\t\tgua.GUA_STATUS = 'Y'\n",
    "\t\tAND trunc(GUA_UNINSTALL_DATE) BETWEEN '01-jul-21' AND '30-apr-22'\n",
    ")\n",
    "\n",
    "\n",
    "'''\n",
    "\n",
    "con = ds_db.connect_alfabi()\n",
    "df_churn_sel = pd.read_sql_query(q, con)\n",
    "con.close()"
   ]
  },
  {
   "cell_type": "code",
   "execution_count": null,
   "id": "c79af2ee",
   "metadata": {},
   "outputs": [],
   "source": []
  },
  {
   "cell_type": "code",
   "execution_count": null,
   "id": "38f4b382",
   "metadata": {},
   "outputs": [],
   "source": []
  },
  {
   "cell_type": "code",
   "execution_count": null,
   "id": "12497471",
   "metadata": {},
   "outputs": [],
   "source": []
  },
  {
   "cell_type": "code",
   "execution_count": null,
   "id": "75abbe78",
   "metadata": {},
   "outputs": [],
   "source": []
  },
  {
   "cell_type": "code",
   "execution_count": null,
   "id": "0ad96005",
   "metadata": {},
   "outputs": [],
   "source": []
  },
  {
   "cell_type": "code",
   "execution_count": null,
   "id": "deb71984",
   "metadata": {},
   "outputs": [],
   "source": [
    "df_churn_sel['PERIOD'] = '2022-04-01'\n",
    "df_churn_sel['PERIOD'] = pd.to_datetime(df_churn_sel['PERIOD'])\n",
    "df_churn_sel = df_churn_sel[['PERIOD','TRO_MEMBERS']].rename(columns={'TRO_MEMBERS':'MEMBER'})\n",
    "df_churn_all = df_churn_sel.copy()"
   ]
  },
  {
   "cell_type": "code",
   "execution_count": null,
   "id": "cf5e4b5e",
   "metadata": {},
   "outputs": [],
   "source": []
  },
  {
   "cell_type": "code",
   "execution_count": null,
   "id": "2453631b",
   "metadata": {},
   "outputs": [],
   "source": []
  },
  {
   "cell_type": "code",
   "execution_count": null,
   "id": "6e5afbb6",
   "metadata": {},
   "outputs": [],
   "source": []
  },
  {
   "cell_type": "code",
   "execution_count": null,
   "id": "a67df18e",
   "metadata": {},
   "outputs": [],
   "source": []
  },
  {
   "cell_type": "code",
   "execution_count": null,
   "id": "77c0d233",
   "metadata": {},
   "outputs": [],
   "source": []
  },
  {
   "cell_type": "code",
   "execution_count": null,
   "id": "64cbdcab",
   "metadata": {},
   "outputs": [],
   "source": []
  },
  {
   "cell_type": "code",
   "execution_count": null,
   "id": "7fc91156",
   "metadata": {},
   "outputs": [],
   "source": []
  },
  {
   "cell_type": "code",
   "execution_count": null,
   "id": "ae4733c2",
   "metadata": {},
   "outputs": [],
   "source": []
  },
  {
   "cell_type": "code",
   "execution_count": null,
   "id": "8503e510",
   "metadata": {},
   "outputs": [],
   "source": []
  },
  {
   "cell_type": "code",
   "execution_count": null,
   "id": "b3307d43",
   "metadata": {},
   "outputs": [],
   "source": []
  },
  {
   "cell_type": "code",
   "execution_count": null,
   "id": "e492c365",
   "metadata": {},
   "outputs": [],
   "source": []
  },
  {
   "cell_type": "code",
   "execution_count": null,
   "id": "1c61cc25",
   "metadata": {},
   "outputs": [],
   "source": []
  },
  {
   "cell_type": "code",
   "execution_count": null,
   "id": "669c4ba7",
   "metadata": {},
   "outputs": [],
   "source": []
  },
  {
   "cell_type": "code",
   "execution_count": null,
   "id": "a93bbd38",
   "metadata": {},
   "outputs": [],
   "source": []
  },
  {
   "cell_type": "code",
   "execution_count": null,
   "id": "344b432e",
   "metadata": {},
   "outputs": [],
   "source": []
  },
  {
   "cell_type": "code",
   "execution_count": null,
   "id": "719c0bd8",
   "metadata": {},
   "outputs": [],
   "source": []
  },
  {
   "cell_type": "code",
   "execution_count": null,
   "id": "a148b327",
   "metadata": {},
   "outputs": [],
   "source": []
  },
  {
   "cell_type": "code",
   "execution_count": null,
   "id": "c1a17c27",
   "metadata": {},
   "outputs": [],
   "source": []
  },
  {
   "cell_type": "code",
   "execution_count": null,
   "id": "4f4e6671",
   "metadata": {},
   "outputs": [],
   "source": []
  },
  {
   "cell_type": "code",
   "execution_count": null,
   "id": "5f422df2",
   "metadata": {},
   "outputs": [],
   "source": [
    "\n",
    "\n",
    "from sqlalchemy import event,create_engine,types\n",
    "\n",
    "\n",
    "\n",
    "driver = 'cx_oracle'\n",
    "server = '10.234.152.61' \n",
    "database = 'alfabi' \n",
    "username = 'mkt' \n",
    "password = 'Mkt234'\n",
    "engine_stmt = \"oracle://%s:%s@%s/%s\" % (username, password, server, database )\n",
    "    \n",
    "engine = create_engine(engine_stmt)\n",
    "\n",
    "q = '''\n",
    "\n",
    "DELETE FROM ALFAGIFT_CHURN\n",
    "WHERE PERIOD = '1-apr-22'\n",
    "\n",
    "'''\n",
    "\n",
    "con = engine.connect()\n",
    "con.execute(q)\n",
    "\n",
    "df = df_churn_all.copy()\n",
    "dtyp = {c:types.VARCHAR(df[c].str.len().max()) for c in df.columns[df.dtypes == 'object'].tolist()}\n",
    "df.to_sql('ALFAGIFT_CHURN', engine, index=False, if_exists=\"append\", dtype=dtyp)\n",
    "\n",
    "\n",
    "\n",
    "engine.dispose()"
   ]
  },
  {
   "cell_type": "code",
   "execution_count": null,
   "id": "3cca888a",
   "metadata": {},
   "outputs": [],
   "source": []
  },
  {
   "cell_type": "code",
   "execution_count": null,
   "id": "49ba247e",
   "metadata": {},
   "outputs": [],
   "source": []
  },
  {
   "cell_type": "code",
   "execution_count": null,
   "id": "afabe720",
   "metadata": {},
   "outputs": [],
   "source": []
  },
  {
   "cell_type": "code",
   "execution_count": null,
   "id": "11a64b24",
   "metadata": {},
   "outputs": [],
   "source": []
  },
  {
   "cell_type": "code",
   "execution_count": null,
   "id": "92fdea81",
   "metadata": {},
   "outputs": [],
   "source": [
    "df_churn_view = pd.merge(df_churn_sel,df_tto_re_pv,left_on='MEMBER'\n",
    "                         ,right_on='TRO_MEMBERS', how='left')"
   ]
  },
  {
   "cell_type": "code",
   "execution_count": null,
   "id": "8dc78bf6",
   "metadata": {},
   "outputs": [],
   "source": [
    "df_churn_view.head(20)"
   ]
  },
  {
   "cell_type": "code",
   "execution_count": null,
   "id": "26ceb7ea",
   "metadata": {},
   "outputs": [],
   "source": []
  }
 ],
 "metadata": {
  "kernelspec": {
   "display_name": "Python 3",
   "language": "python",
   "name": "python3"
  },
  "language_info": {
   "codemirror_mode": {
    "name": "ipython",
    "version": 3
   },
   "file_extension": ".py",
   "mimetype": "text/x-python",
   "name": "python",
   "nbconvert_exporter": "python",
   "pygments_lexer": "ipython3",
   "version": "3.8.5"
  }
 },
 "nbformat": 4,
 "nbformat_minor": 5
}
