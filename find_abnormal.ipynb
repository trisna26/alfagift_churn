{
 "cells": [
  {
   "cell_type": "code",
   "execution_count": 13,
   "id": "86086bb4",
   "metadata": {},
   "outputs": [],
   "source": [
    "import pandas as pd"
   ]
  },
  {
   "cell_type": "code",
   "execution_count": 14,
   "id": "fc39b5d8",
   "metadata": {},
   "outputs": [],
   "source": [
    "mc = pd.read_csv('./out_member/member_churn_feb_test3.csv', dtype='object')\n",
    "mc.columns = ['no_member','pred']\n",
    "mc = mc[['no_member']]"
   ]
  },
  {
   "cell_type": "code",
   "execution_count": 15,
   "id": "39de660f",
   "metadata": {},
   "outputs": [],
   "source": [
    "spath = '/home/server/gli-data-science/akhiyar/churn/out_member/target_churn_edit.xlsx'\n",
    "adder = 'Sheet1'\n",
    "writer = pd.ExcelWriter(spath, engine='xlsxwriter') \n",
    "mc.to_excel(writer, sheet_name=adder, index=False, na_rep='NaN')\n",
    "\n",
    "# Auto-adjust columns' width\n",
    "for column in mc:\n",
    "    column_width = max(mc[column].astype(str).map(len).max(), len(column)) + 5\n",
    "    col_idx = mc.columns.get_loc(column)\n",
    "    writer.sheets[adder].set_column(col_idx, col_idx, column_width)\n",
    "\n",
    "writer.save()"
   ]
  },
  {
   "cell_type": "code",
   "execution_count": null,
   "id": "894c3675",
   "metadata": {},
   "outputs": [],
   "source": []
  },
  {
   "cell_type": "code",
   "execution_count": null,
   "id": "223a0455",
   "metadata": {},
   "outputs": [],
   "source": [
    "df_tto_12 = df_tto[df_tto['TRO_DATE_MONTH'] == '2021-12']\n",
    "df_tto_12_g = df_tto_12.groupby(['TRO_MEMBERS']).agg(\n",
    "                    SALES=('TRO_NET','sum'),\n",
    "                    STRUK=('TRO_NO_ORDER', 'nunique'),\n",
    "                    PLU=('TRO_PLU', 'nunique')).reset_index()\n",
    "\n",
    "df_tto_12_g['STRUK/PLU'] = df_tto_12_g['STRUK'].astype(float) / df_tto_12_g['PLU'].astype(float)\n",
    "\n",
    "\n",
    "q3 = np.quantile(df_tto_12_g['SALES'], 0.75)\n",
    "q1= np.quantile(df_tto_12_g['SALES'], 0.25)\n",
    "\n",
    "avgq_sales = q3 + (1.5 * (q3-q1))\n",
    "print(avgq_sales)\n",
    "\n",
    "\n",
    "q3 = np.quantile(df_tto_12_g['STRUK'],0.75)\n",
    "q1= np.quantile(df_tto_12_g['STRUK'],0.25)\n",
    "\n",
    "avgq_struk = q3 + (1.5 * (q3-q1))\n",
    "print(avgq_struk)\n",
    "\n",
    "q3 = np.quantile(df_tto_12_g['STRUK/PLU'], 0.75)\n",
    "q1= np.quantile(df_tto_12_g['STRUK/PLU'], 0.25)\n",
    "\n",
    "avgq_struk_plu = q3 + (1.5 * (q3-q1))\n",
    "print(avgq_struk_plu)\n",
    "\n",
    "\n",
    "df_tto_12_g['AB_SALES'] = np.where(df_tto_12_g['SALES'] > avgq_sales, 1, 0)\n",
    "df_tto_12_g['AB_STRUK'] = np.where(df_tto_12_g['STRUK'] > avgq_struk, 1, 0)\n",
    "df_tto_12_g['AB_STRUK/PLU'] = np.where(df_tto_12_g['STRUK/PLU'] > avgq_struk_plu, 1, 0)\n",
    "\n",
    "df_tto_12_g['WEIGHT'] = df_tto_12_g['AB_SALES'] + df_tto_12_g['AB_STRUK'] + df_tto_12_g['AB_STRUK/PLU']\n",
    "\n",
    "writer = pd.ExcelWriter('./member_weight.xlsx', engine='xlsxwriter')\n",
    "\n",
    "##################\n",
    "count_avg = df_tto_12_g[df_tto_12_g['WEIGHT'] >= 2].copy()\n",
    "count_avg.to_excel(writer, sheet_name='sheet1', index=False)\n",
    "\n",
    "# Auto-adjust columns' width\n",
    "for column in count_avg:\n",
    "    column_width = max(count_avg[column].astype(str).map(len).max(), len(column)) + 4\n",
    "    col_idx = count_avg.columns.get_loc(column)\n",
    "    writer.sheets['sheet1'].set_column(col_idx, col_idx, column_width)\n",
    "    \n",
    "writer.save()"
   ]
  }
 ],
 "metadata": {
  "kernelspec": {
   "display_name": "Python 3",
   "language": "python",
   "name": "python3"
  },
  "language_info": {
   "codemirror_mode": {
    "name": "ipython",
    "version": 3
   },
   "file_extension": ".py",
   "mimetype": "text/x-python",
   "name": "python",
   "nbconvert_exporter": "python",
   "pygments_lexer": "ipython3",
   "version": "3.8.5"
  }
 },
 "nbformat": 4,
 "nbformat_minor": 5
}
