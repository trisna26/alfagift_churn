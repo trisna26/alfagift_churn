{
 "cells": [
  {
   "cell_type": "code",
   "execution_count": 1,
   "id": "acf79fb0",
   "metadata": {},
   "outputs": [],
   "source": [
    "# HIDE CODE\n",
    "from dateutil.relativedelta import relativedelta\n",
    "from joblib import dump, load\n",
    "from sklearn.metrics import ConfusionMatrixDisplay\n",
    "import matplotlib.pyplot as plt\n",
    "import matplotlib\n",
    "from matplotlib import cm\n",
    "matplotlib.rcParams.update({'font.size': 12})\n",
    "\n",
    "\n",
    "import warnings\n",
    "import sys\n",
    "import os\n",
    "sys.path.append('/home/server/gli-data-science/')\n",
    "if not sys.warnoptions:\n",
    "    warnings.simplefilter(\"ignore\")\n",
    "    os.environ[\"PYTHONWARNINGS\"] = \"ignore\" # Also affect subprocesses\n",
    "\n",
    "import os\n",
    "import ds_db\n",
    "import helper_db\n",
    "from helper import transform_to_rupiah, rupiah_format\n",
    "\n",
    "import pickle\n",
    "import pandas as pd\n",
    "import numpy as np\n",
    "import psycopg2\n",
    "\n",
    "from datetime import datetime, timedelta\n",
    "\n",
    "pd.set_option('display.max_rows', None)\n",
    "pd.set_option('display.max_columns', None)\n",
    "pd.set_option('display.width', None)\n",
    "pd.set_option('display.max_colwidth', None)\n",
    "pd.set_option('display.float_format', lambda x: '%.1f' % x)\n",
    "pd.options.mode.chained_assignment = None  # default='warn'\n",
    "\n",
    "\n",
    "from sqlalchemy import event,create_engine,types\n",
    "\n",
    "driver = 'cx_oracle'\n",
    "server = '10.234.152.61' \n",
    "database = 'alfabi' \n",
    "username = 'report' \n",
    "password = 'justd0it'\n",
    "engine_stmt = \"oracle://%s:%s@%s/%s\" % (username, password, server, database )"
   ]
  },
  {
   "cell_type": "markdown",
   "id": "4ba4b9e9",
   "metadata": {},
   "source": [
    "### ide kasar\n",
    "> \n",
    "* daily job to loop all member alfagift 10 juta\n",
    "* compute feature trx voucher used, # of trx, # of sales\n",
    "* compute feature event app site open / view product / atc\n",
    "* updating each feature and re predict churn feature\n",
    "* lets play in month - 3 for each define trx and event feature"
   ]
  },
  {
   "cell_type": "code",
   "execution_count": 2,
   "id": "a7e71c04",
   "metadata": {},
   "outputs": [],
   "source": [
    "q = '''\n",
    "select \n",
    "\tatvd_id, atvd_member, atvd_registration_code, atvd_blast_date, atvd_virgo_date \n",
    "from \n",
    "\talfagift.alfagift_targeted_voucher_det\n",
    "where \n",
    "\tatvd_amtv_id  = '8'--churn\n",
    "\tand atvd_blast_date < '2022-03-07'\n",
    "'''\n",
    "\n",
    "connection_voucher = psycopg2.connect(\n",
    "    host=\"35.220.168.98\",\n",
    "    database=\"postgres\",\n",
    "    user=\"ferina\",\n",
    "    password=\"nw9f20d\")\n",
    "\n",
    "df_churn = pd.read_sql_query(q, connection_voucher)\n",
    "connection_voucher.close()"
   ]
  },
  {
   "cell_type": "code",
   "execution_count": null,
   "id": "03a52290",
   "metadata": {},
   "outputs": [],
   "source": []
  },
  {
   "cell_type": "code",
   "execution_count": 3,
   "id": "40bb92ea",
   "metadata": {},
   "outputs": [],
   "source": [
    "\n",
    "\n",
    "\n",
    "engine = create_engine(engine_stmt)\n",
    "\n",
    "df = df_churn[['atvd_member', 'atvd_registration_code']].astype(str)\n",
    "dtyp = {c:types.VARCHAR(df[c].str.len().max()) for c in df.columns[df.dtypes == 'object'].tolist()}\n",
    "df.to_sql('temp_voucher_', engine, index=False, if_exists=\"replace\", dtype=dtyp)\n",
    "\n",
    "engine.dispose()\n"
   ]
  },
  {
   "cell_type": "code",
   "execution_count": 25,
   "id": "ca077977",
   "metadata": {},
   "outputs": [
    {
     "name": "stdout",
     "output_type": "stream",
     "text": [
      "You are connected\n"
     ]
    }
   ],
   "source": [
    "q = '''\n",
    "SELECT \n",
    "rto.TRO_PONTA_ID, \n",
    "rto.TRO_PLU, \n",
    "rto.TRO_QTY, \n",
    "rto.TRO_NET, \n",
    "rto.TRO_VOUCHER_CODE, \n",
    "rto.TRO_DATE\n",
    "FROM TEMP_VOUCHER_ tv\n",
    "LEFT JOIN RPT_TRANS_OSHOP rto ON rto.TRO_PONTA_ID = tv.ATVD_MEMBER \n",
    "WHERE rto.TRO_DATE BETWEEN '1-sep-21' AND '15-mar-22'\n",
    "\n",
    "'''\n",
    "con = ds_db.connect_alfabi()\n",
    "df_trx = pd.read_sql_query(q, con)\n",
    "\n",
    "con.close()"
   ]
  },
  {
   "cell_type": "code",
   "execution_count": null,
   "id": "81a9dcb6",
   "metadata": {},
   "outputs": [],
   "source": []
  },
  {
   "cell_type": "code",
   "execution_count": 7,
   "id": "a5132727",
   "metadata": {},
   "outputs": [
    {
     "name": "stdout",
     "output_type": "stream",
     "text": [
      "You are connected\n"
     ]
    }
   ],
   "source": [
    "q = '''\n",
    "SELECT \n",
    "\ttv.ATVD_MEMBER,\n",
    "\tgua.GUA_ACCOUNT_CARD_ADJ,\n",
    "\tgua.GUA_UNINSTALL_DATE,\n",
    "\tgua.GUA_LAST_SEEN\n",
    "FROM TEMP_VOUCHER_ tv \n",
    "\tINNER JOIN GLI_UNINSTALL_ALFAGIFT gua ON tv.ATVD_MEMBER = gua.GUA_ACCOUNT_CARD_ADJ\n",
    "where \n",
    "\tgua_status = 'Y'\n",
    "\tAND trunc(GUA_UNINSTALL_DATE) BETWEEN '01-jul-21' AND '28-feb-22'\n",
    "\n",
    "'''\n",
    "\n",
    "con = ds_db.connect_alfabi()\n",
    "df_uninstall = pd.read_sql_query(q, con)\n",
    "\n",
    "con.close()"
   ]
  },
  {
   "cell_type": "code",
   "execution_count": 9,
   "id": "cad515c8",
   "metadata": {},
   "outputs": [
    {
     "data": {
      "text/plain": [
       "(1050, 4)"
      ]
     },
     "execution_count": 9,
     "metadata": {},
     "output_type": "execute_result"
    }
   ],
   "source": [
    "df_uninstall.shape"
   ]
  },
  {
   "cell_type": "code",
   "execution_count": 11,
   "id": "4ebb1b37",
   "metadata": {},
   "outputs": [
    {
     "data": {
      "text/html": [
       "<div>\n",
       "<style scoped>\n",
       "    .dataframe tbody tr th:only-of-type {\n",
       "        vertical-align: middle;\n",
       "    }\n",
       "\n",
       "    .dataframe tbody tr th {\n",
       "        vertical-align: top;\n",
       "    }\n",
       "\n",
       "    .dataframe thead th {\n",
       "        text-align: right;\n",
       "    }\n",
       "</style>\n",
       "<table border=\"1\" class=\"dataframe\">\n",
       "  <thead>\n",
       "    <tr style=\"text-align: right;\">\n",
       "      <th></th>\n",
       "      <th>ATVD_MEMBER</th>\n",
       "      <th>GUA_ACCOUNT_CARD_ADJ</th>\n",
       "      <th>GUA_UNINSTALL_DATE</th>\n",
       "      <th>GUA_LAST_SEEN</th>\n",
       "    </tr>\n",
       "  </thead>\n",
       "  <tbody>\n",
       "    <tr>\n",
       "      <th>1044</th>\n",
       "      <td>9990013481402300</td>\n",
       "      <td>9990013481402300</td>\n",
       "      <td>2022-02-26 16:42:18</td>\n",
       "      <td>2022-02-13 02:19:52</td>\n",
       "    </tr>\n",
       "  </tbody>\n",
       "</table>\n",
       "</div>"
      ],
      "text/plain": [
       "           ATVD_MEMBER GUA_ACCOUNT_CARD_ADJ  GUA_UNINSTALL_DATE  \\\n",
       "1044  9990013481402300     9990013481402300 2022-02-26 16:42:18   \n",
       "\n",
       "           GUA_LAST_SEEN  \n",
       "1044 2022-02-13 02:19:52  "
      ]
     },
     "execution_count": 11,
     "metadata": {},
     "output_type": "execute_result"
    }
   ],
   "source": [
    "df_uninstall[df_uninstall['ATVD_MEMBER'] == '9990013481402300']"
   ]
  },
  {
   "cell_type": "code",
   "execution_count": 10,
   "id": "f68f708b",
   "metadata": {},
   "outputs": [
    {
     "name": "stdout",
     "output_type": "stream",
     "text": [
      "You are connected\n"
     ]
    },
    {
     "data": {
      "text/html": [
       "<div>\n",
       "<style scoped>\n",
       "    .dataframe tbody tr th:only-of-type {\n",
       "        vertical-align: middle;\n",
       "    }\n",
       "\n",
       "    .dataframe tbody tr th {\n",
       "        vertical-align: top;\n",
       "    }\n",
       "\n",
       "    .dataframe thead th {\n",
       "        text-align: right;\n",
       "    }\n",
       "</style>\n",
       "<table border=\"1\" class=\"dataframe\">\n",
       "  <thead>\n",
       "    <tr style=\"text-align: right;\">\n",
       "      <th></th>\n",
       "      <th>TRO_DATE</th>\n",
       "      <th>TRO_DATE_SHIP</th>\n",
       "      <th>TRO_KD_STORE</th>\n",
       "      <th>TRO_BRANCH_CODE</th>\n",
       "      <th>TRO_MEMBERS</th>\n",
       "      <th>TRO_CUST_ID</th>\n",
       "      <th>TRO_NO_REF</th>\n",
       "      <th>TRO_NO_ORDER</th>\n",
       "      <th>TRO_PAYMENT_METHOD</th>\n",
       "      <th>TRO_PLU</th>\n",
       "      <th>TRO_QTY</th>\n",
       "      <th>TRO_NET</th>\n",
       "      <th>TRO_GM</th>\n",
       "      <th>TRO_DISC</th>\n",
       "      <th>TRO_DH_SPESIAL</th>\n",
       "      <th>TRO_DATE_ORDER</th>\n",
       "      <th>TRO_SHIP_METHOD</th>\n",
       "      <th>TRO_SHIP_METHOD_NAME</th>\n",
       "      <th>TRO_KODE_KASIR</th>\n",
       "      <th>TRO_NO_BON</th>\n",
       "      <th>TRO_JAM_TRANSAKSI</th>\n",
       "      <th>TRO_TYPE</th>\n",
       "      <th>TRO_PRICE</th>\n",
       "      <th>TRO_POS_NOREF</th>\n",
       "      <th>TRO_CREATE_DATE</th>\n",
       "      <th>TRO_UPDATE_DATE</th>\n",
       "      <th>TRO_PONTA_ID</th>\n",
       "      <th>TRO_MCW_ID</th>\n",
       "      <th>TRO_VOUCHER_CODE</th>\n",
       "      <th>TRO_VOUCHER_USAGE</th>\n",
       "      <th>TRO_TAG</th>\n",
       "      <th>TRO_STATUS_RETUR</th>\n",
       "      <th>TRO_CART_ID</th>\n",
       "      <th>TRO_OTHER_INFO</th>\n",
       "      <th>TRO_AVG_COST</th>\n",
       "      <th>TRO_STATUS_SAPA</th>\n",
       "      <th>TRO_APPLICATION_ID</th>\n",
       "      <th>TRO_CART_SOURCE</th>\n",
       "      <th>TRO_CART_PROMO_PAGE_ID</th>\n",
       "      <th>TRO_CART_PROMO_PAGE_DESC</th>\n",
       "      <th>TRO_TRIGGER_OPEN_APP</th>\n",
       "      <th>TRO_TRIGGER_OPEN_APP_DESC</th>\n",
       "    </tr>\n",
       "  </thead>\n",
       "  <tbody>\n",
       "    <tr>\n",
       "      <th>0</th>\n",
       "      <td>2021-12-05</td>\n",
       "      <td>2021-12-05</td>\n",
       "      <td>CB40</td>\n",
       "      <td>CZ01</td>\n",
       "      <td>9990013481402300</td>\n",
       "      <td>2174771</td>\n",
       "      <td>S-211205-AGXGBZM</td>\n",
       "      <td>O-211205-AGDQMFS</td>\n",
       "      <td>GO-PAY</td>\n",
       "      <td>103001</td>\n",
       "      <td>1</td>\n",
       "      <td>181.8</td>\n",
       "      <td>0.0</td>\n",
       "      <td>0.0</td>\n",
       "      <td>200.0</td>\n",
       "      <td>2021-12-05 01:16:48</td>\n",
       "      <td>0</td>\n",
       "      <td>0</td>\n",
       "      <td>105</td>\n",
       "      <td>5153</td>\n",
       "      <td>2021-12-05 01:31:47</td>\n",
       "      <td>O</td>\n",
       "      <td>200.0</td>\n",
       "      <td>S-211205-AGXGBZM</td>\n",
       "      <td>2021-12-07 09:48:05</td>\n",
       "      <td>2022-01-06 10:50:54</td>\n",
       "      <td>9990013481402300</td>\n",
       "      <td>25748291</td>\n",
       "      <td>None</td>\n",
       "      <td>0</td>\n",
       "      <td>L</td>\n",
       "      <td>N</td>\n",
       "      <td>15916895</td>\n",
       "      <td>ALFAGIFT</td>\n",
       "      <td>250.9</td>\n",
       "      <td>N</td>\n",
       "      <td>905</td>\n",
       "      <td>None</td>\n",
       "      <td>None</td>\n",
       "      <td>None</td>\n",
       "      <td>None</td>\n",
       "      <td>None</td>\n",
       "    </tr>\n",
       "    <tr>\n",
       "      <th>1</th>\n",
       "      <td>2021-12-05</td>\n",
       "      <td>2021-12-05</td>\n",
       "      <td>CB40</td>\n",
       "      <td>CZ01</td>\n",
       "      <td>9990013481402300</td>\n",
       "      <td>2174771</td>\n",
       "      <td>S-211205-AGXGBZM</td>\n",
       "      <td>O-211205-AGDQMFS</td>\n",
       "      <td>GO-PAY</td>\n",
       "      <td>192730</td>\n",
       "      <td>2</td>\n",
       "      <td>66363.6</td>\n",
       "      <td>6102.0</td>\n",
       "      <td>0.0</td>\n",
       "      <td>0.0</td>\n",
       "      <td>2021-12-05 01:16:48</td>\n",
       "      <td>0</td>\n",
       "      <td>0</td>\n",
       "      <td>105</td>\n",
       "      <td>5153</td>\n",
       "      <td>2021-12-05 01:31:47</td>\n",
       "      <td>O</td>\n",
       "      <td>36500.0</td>\n",
       "      <td>S-211205-AGXGBZM</td>\n",
       "      <td>2021-12-07 09:48:05</td>\n",
       "      <td>2022-01-06 10:50:54</td>\n",
       "      <td>9990013481402300</td>\n",
       "      <td>25748291</td>\n",
       "      <td>None</td>\n",
       "      <td>0</td>\n",
       "      <td>T</td>\n",
       "      <td>N</td>\n",
       "      <td>15916895</td>\n",
       "      <td>ALFAGIFT</td>\n",
       "      <td>30130.7</td>\n",
       "      <td>N</td>\n",
       "      <td>905</td>\n",
       "      <td>RECOMMENDATION_HOME</td>\n",
       "      <td>None</td>\n",
       "      <td>None</td>\n",
       "      <td>None</td>\n",
       "      <td>None</td>\n",
       "    </tr>\n",
       "    <tr>\n",
       "      <th>2</th>\n",
       "      <td>2022-01-06</td>\n",
       "      <td>2022-01-06</td>\n",
       "      <td>C593</td>\n",
       "      <td>CZ01</td>\n",
       "      <td>9990013481402300</td>\n",
       "      <td>2174771</td>\n",
       "      <td>S-220106-AGJMFVG</td>\n",
       "      <td>O-220106-AGTHNHV</td>\n",
       "      <td>GO-PAY</td>\n",
       "      <td>103001</td>\n",
       "      <td>1</td>\n",
       "      <td>181.8</td>\n",
       "      <td>0.0</td>\n",
       "      <td>0.0</td>\n",
       "      <td>200.0</td>\n",
       "      <td>2022-01-06 06:43:36</td>\n",
       "      <td>0</td>\n",
       "      <td>0</td>\n",
       "      <td>102</td>\n",
       "      <td>2464</td>\n",
       "      <td>2022-01-06 07:05:12</td>\n",
       "      <td>O</td>\n",
       "      <td>200.0</td>\n",
       "      <td>S-220106-AGJMFVG</td>\n",
       "      <td>2022-01-08 09:18:25</td>\n",
       "      <td>2022-02-07 11:02:33</td>\n",
       "      <td>9990013481402300</td>\n",
       "      <td>25748291</td>\n",
       "      <td>None</td>\n",
       "      <td>0</td>\n",
       "      <td>L</td>\n",
       "      <td>N</td>\n",
       "      <td>17945393</td>\n",
       "      <td>ALFAGIFT</td>\n",
       "      <td>250.9</td>\n",
       "      <td>N</td>\n",
       "      <td>905</td>\n",
       "      <td>None</td>\n",
       "      <td>None</td>\n",
       "      <td>None</td>\n",
       "      <td>None</td>\n",
       "      <td>None</td>\n",
       "    </tr>\n",
       "    <tr>\n",
       "      <th>3</th>\n",
       "      <td>2022-01-06</td>\n",
       "      <td>2022-01-06</td>\n",
       "      <td>C593</td>\n",
       "      <td>CZ01</td>\n",
       "      <td>9990013481402300</td>\n",
       "      <td>2174771</td>\n",
       "      <td>S-220106-AGJMFVG</td>\n",
       "      <td>O-220106-AGTHNHV</td>\n",
       "      <td>GO-PAY</td>\n",
       "      <td>192730</td>\n",
       "      <td>2</td>\n",
       "      <td>68909.1</td>\n",
       "      <td>3690.3</td>\n",
       "      <td>0.0</td>\n",
       "      <td>0.0</td>\n",
       "      <td>2022-01-06 06:43:36</td>\n",
       "      <td>0</td>\n",
       "      <td>0</td>\n",
       "      <td>102</td>\n",
       "      <td>2464</td>\n",
       "      <td>2022-01-06 07:05:12</td>\n",
       "      <td>O</td>\n",
       "      <td>37900.0</td>\n",
       "      <td>S-220106-AGJMFVG</td>\n",
       "      <td>2022-01-08 09:18:25</td>\n",
       "      <td>2022-02-07 11:02:33</td>\n",
       "      <td>9990013481402300</td>\n",
       "      <td>25748291</td>\n",
       "      <td>None</td>\n",
       "      <td>0</td>\n",
       "      <td>T</td>\n",
       "      <td>N</td>\n",
       "      <td>17945393</td>\n",
       "      <td>ALFAGIFT</td>\n",
       "      <td>32609.4</td>\n",
       "      <td>N</td>\n",
       "      <td>905</td>\n",
       "      <td>BY_KEYWORD</td>\n",
       "      <td>None</td>\n",
       "      <td>None</td>\n",
       "      <td>None</td>\n",
       "      <td>None</td>\n",
       "    </tr>\n",
       "  </tbody>\n",
       "</table>\n",
       "</div>"
      ],
      "text/plain": [
       "    TRO_DATE TRO_DATE_SHIP TRO_KD_STORE TRO_BRANCH_CODE       TRO_MEMBERS  \\\n",
       "0 2021-12-05    2021-12-05         CB40            CZ01  9990013481402300   \n",
       "1 2021-12-05    2021-12-05         CB40            CZ01  9990013481402300   \n",
       "2 2022-01-06    2022-01-06         C593            CZ01  9990013481402300   \n",
       "3 2022-01-06    2022-01-06         C593            CZ01  9990013481402300   \n",
       "\n",
       "   TRO_CUST_ID        TRO_NO_REF      TRO_NO_ORDER TRO_PAYMENT_METHOD  \\\n",
       "0      2174771  S-211205-AGXGBZM  O-211205-AGDQMFS             GO-PAY   \n",
       "1      2174771  S-211205-AGXGBZM  O-211205-AGDQMFS             GO-PAY   \n",
       "2      2174771  S-220106-AGJMFVG  O-220106-AGTHNHV             GO-PAY   \n",
       "3      2174771  S-220106-AGJMFVG  O-220106-AGTHNHV             GO-PAY   \n",
       "\n",
       "   TRO_PLU  TRO_QTY  TRO_NET  TRO_GM  TRO_DISC  TRO_DH_SPESIAL  \\\n",
       "0   103001        1    181.8     0.0       0.0           200.0   \n",
       "1   192730        2  66363.6  6102.0       0.0             0.0   \n",
       "2   103001        1    181.8     0.0       0.0           200.0   \n",
       "3   192730        2  68909.1  3690.3       0.0             0.0   \n",
       "\n",
       "       TRO_DATE_ORDER TRO_SHIP_METHOD TRO_SHIP_METHOD_NAME  TRO_KODE_KASIR  \\\n",
       "0 2021-12-05 01:16:48               0                    0             105   \n",
       "1 2021-12-05 01:16:48               0                    0             105   \n",
       "2 2022-01-06 06:43:36               0                    0             102   \n",
       "3 2022-01-06 06:43:36               0                    0             102   \n",
       "\n",
       "   TRO_NO_BON   TRO_JAM_TRANSAKSI TRO_TYPE  TRO_PRICE     TRO_POS_NOREF  \\\n",
       "0        5153 2021-12-05 01:31:47        O      200.0  S-211205-AGXGBZM   \n",
       "1        5153 2021-12-05 01:31:47        O    36500.0  S-211205-AGXGBZM   \n",
       "2        2464 2022-01-06 07:05:12        O      200.0  S-220106-AGJMFVG   \n",
       "3        2464 2022-01-06 07:05:12        O    37900.0  S-220106-AGJMFVG   \n",
       "\n",
       "      TRO_CREATE_DATE     TRO_UPDATE_DATE      TRO_PONTA_ID  TRO_MCW_ID  \\\n",
       "0 2021-12-07 09:48:05 2022-01-06 10:50:54  9990013481402300    25748291   \n",
       "1 2021-12-07 09:48:05 2022-01-06 10:50:54  9990013481402300    25748291   \n",
       "2 2022-01-08 09:18:25 2022-02-07 11:02:33  9990013481402300    25748291   \n",
       "3 2022-01-08 09:18:25 2022-02-07 11:02:33  9990013481402300    25748291   \n",
       "\n",
       "  TRO_VOUCHER_CODE  TRO_VOUCHER_USAGE TRO_TAG TRO_STATUS_RETUR  TRO_CART_ID  \\\n",
       "0             None                  0       L                N     15916895   \n",
       "1             None                  0       T                N     15916895   \n",
       "2             None                  0       L                N     17945393   \n",
       "3             None                  0       T                N     17945393   \n",
       "\n",
       "  TRO_OTHER_INFO  TRO_AVG_COST TRO_STATUS_SAPA  TRO_APPLICATION_ID  \\\n",
       "0       ALFAGIFT         250.9               N                 905   \n",
       "1       ALFAGIFT       30130.7               N                 905   \n",
       "2       ALFAGIFT         250.9               N                 905   \n",
       "3       ALFAGIFT       32609.4               N                 905   \n",
       "\n",
       "       TRO_CART_SOURCE TRO_CART_PROMO_PAGE_ID TRO_CART_PROMO_PAGE_DESC  \\\n",
       "0                 None                   None                     None   \n",
       "1  RECOMMENDATION_HOME                   None                     None   \n",
       "2                 None                   None                     None   \n",
       "3           BY_KEYWORD                   None                     None   \n",
       "\n",
       "  TRO_TRIGGER_OPEN_APP TRO_TRIGGER_OPEN_APP_DESC  \n",
       "0                 None                      None  \n",
       "1                 None                      None  \n",
       "2                 None                      None  \n",
       "3                 None                      None  "
      ]
     },
     "execution_count": 10,
     "metadata": {},
     "output_type": "execute_result"
    }
   ],
   "source": [
    "q = '''\n",
    "\n",
    "SELECT * \n",
    "FROM \n",
    "    RPT_TRANS_OSHOP rto \n",
    "WHERE \n",
    "    rto.tro_members = '9990013481402300'\n",
    "    AND rto.tro_date BETWEEN '01-jul-21' AND '28-feb-22'\n",
    "\n",
    "'''\n",
    "\n",
    "con = ds_db.connect_alfabi()\n",
    "df_uninstall_check = pd.read_sql_query(q, con)\n",
    "con.close()\n",
    "df_uninstall_check"
   ]
  },
  {
   "cell_type": "code",
   "execution_count": null,
   "id": "da202500",
   "metadata": {},
   "outputs": [],
   "source": []
  },
  {
   "cell_type": "code",
   "execution_count": 28,
   "id": "64329137",
   "metadata": {},
   "outputs": [
    {
     "data": {
      "text/plain": [
       "61"
      ]
     },
     "execution_count": 28,
     "metadata": {},
     "output_type": "execute_result"
    }
   ],
   "source": [
    "df_trx[df_trx['TRO_DATE'].dt.strftime('%b-%y') == 'Sep-21']['TRO_PONTA_ID'].nunique()"
   ]
  },
  {
   "cell_type": "code",
   "execution_count": null,
   "id": "7d5fbabe",
   "metadata": {},
   "outputs": [],
   "source": []
  },
  {
   "cell_type": "code",
   "execution_count": 31,
   "id": "6a239b8b",
   "metadata": {},
   "outputs": [],
   "source": [
    "# def is_unique(s):\n",
    "#     a = s.to_numpy() # s.values (pandas<0.24)\n",
    "#     return (a[0] == a).all()\n",
    "\n",
    "# is_unique(df['counts'])"
   ]
  },
  {
   "cell_type": "code",
   "execution_count": null,
   "id": "2eaf8dfa",
   "metadata": {},
   "outputs": [],
   "source": []
  },
  {
   "cell_type": "code",
   "execution_count": null,
   "id": "41c915ee",
   "metadata": {},
   "outputs": [],
   "source": []
  },
  {
   "cell_type": "code",
   "execution_count": null,
   "id": "88469905",
   "metadata": {},
   "outputs": [],
   "source": []
  },
  {
   "cell_type": "code",
   "execution_count": null,
   "id": "d037788f",
   "metadata": {},
   "outputs": [],
   "source": [
    "df_pv_ = pd.read_csv('./feature/pv_31Jan22.csv')\n",
    "df_pv_['EVENT_TIME'] = pd.to_datetime(df_pv_['EVENT_TIME']).dt.strftime('%Y-%m')\n",
    "\n",
    "df_pv = df_pv_.groupby(['TRO_MEMBERS','EVENT_TIME']).agg(PV=('COUNT_VIEW_PRODUCT','sum'))\\\n",
    "        .unstack(level=1).fillna(0).reset_index()\n",
    "\n",
    "df_pv.columns = [' '.join(col).strip().upper() for col in df_pv.columns.values]"
   ]
  },
  {
   "cell_type": "code",
   "execution_count": null,
   "id": "2ca43a71",
   "metadata": {},
   "outputs": [],
   "source": [
    "df_pv.head()"
   ]
  },
  {
   "cell_type": "code",
   "execution_count": null,
   "id": "71f4a6cb",
   "metadata": {},
   "outputs": [],
   "source": [
    "df_re_g_u = pd.read_csv('./feature/rating_2022-02-01.csv')"
   ]
  },
  {
   "cell_type": "code",
   "execution_count": null,
   "id": "e347ae58",
   "metadata": {},
   "outputs": [],
   "source": [
    "df_re_g_u.head()"
   ]
  },
  {
   "cell_type": "code",
   "execution_count": null,
   "id": "ba5f2874",
   "metadata": {},
   "outputs": [],
   "source": []
  },
  {
   "cell_type": "code",
   "execution_count": null,
   "id": "6d87357c",
   "metadata": {},
   "outputs": [],
   "source": []
  },
  {
   "cell_type": "code",
   "execution_count": null,
   "id": "fe2770b1",
   "metadata": {},
   "outputs": [],
   "source": [
    "# HIDE CODE\n",
    "\n",
    "## USING ORDER\n",
    "import glob\n",
    "\n",
    "df_tto = []\n",
    "for end_date in pd.date_range('2021-09-01', '2022-03-08', freq='M'):\n",
    "    start_date = end_date.replace(day=1)\n",
    "    end_date_save = start_date + relativedelta(months=1)\n",
    "    \n",
    "    start_date_str = start_date.strftime('%d%b%y')\n",
    "    end_date_str = end_date_save.strftime('%d%b%y')\n",
    "    \n",
    "    print(start_date_str, end_date_str)\n",
    "    \n",
    "    pf = '/home/server/gli-data-science/data/trans_oshop_test/{}_{}.csv'.format(start_date_str, end_date_str)\n",
    "    df_tto.append(pd.read_csv(pf, sep='\\t', dtype='object'))\n",
    "    \n",
    "df_tto = pd.concat(df_tto)\n",
    "\n",
    "df_tto = df_tto[df_tto['TRO_MEMBERS'] != 'N']\n",
    "df_tto['TRO_DATE'] = pd.to_datetime(df_tto['TRO_DATE'])\n",
    "df_tto['TRO_NET'] = df_tto['TRO_NET'].astype('float', errors='ignore').astype('int', errors='ignore')\n",
    "\n",
    "\n",
    "df_tto['TRO_QTY'] = df_tto['TRO_QTY'].astype(int)"
   ]
  },
  {
   "cell_type": "code",
   "execution_count": null,
   "id": "28082ce5",
   "metadata": {},
   "outputs": [],
   "source": [
    "# ## USE THIS FOR GET PV DATA\n",
    "\n",
    "# df_mem_push = df_tto[['TRO_MEMBERS']].drop_duplicates()\n",
    "# from sqlalchemy import event,create_engine,types\n",
    "\n",
    "\n",
    "\n",
    "# driver = 'cx_oracle'\n",
    "# server = '10.234.152.61' \n",
    "# database = 'alfabi' \n",
    "# username = 'report' \n",
    "# password = 'justd0it'\n",
    "# engine_stmt = \"oracle://%s:%s@%s/%s\" % (username, password, server, database )\n",
    "\n",
    "# engine = create_engine(engine_stmt)\n",
    "\n",
    "# df = df_mem_push.astype(str)\n",
    "# dtyp = {c:types.VARCHAR(df[c].str.len().max()) for c in df.columns[df.dtypes == 'object'].tolist()}\n",
    "# df.to_sql('temp_churn', engine, index=False, if_exists=\"replace\", dtype=dtyp)\n",
    "\n",
    "# engine.dispose()\n",
    "\n",
    "\n",
    "\n"
   ]
  },
  {
   "cell_type": "code",
   "execution_count": null,
   "id": "ee421c77",
   "metadata": {},
   "outputs": [],
   "source": []
  },
  {
   "cell_type": "code",
   "execution_count": null,
   "id": "a1adc0c7",
   "metadata": {},
   "outputs": [],
   "source": [
    "from sqlalchemy import event,create_engine,types\n",
    "\n",
    "\n",
    "driver = 'cx_oracle'\n",
    "server = '10.234.152.61' \n",
    "database = 'alfabi' \n",
    "username = 'report' \n",
    "password = 'justd0it'\n",
    "engine_stmt = \"oracle://%s:%s@%s/%s\" % ( username, password, server, database )\n",
    "\n",
    "\n",
    "\n",
    "engine = create_engine(engine_stmt)\n",
    "q = '''\n",
    "    SELECT AVG(NUM_MEMBER) AS AVG_NUM_MEMBER\n",
    "    FROM TEMP_SALES_PROMO_ALFAGIFT tspa \n",
    "    WHERE tspa.PLU = {}\n",
    "    AND tspa.TYPE = {}\n",
    "\n",
    "'''.format(41091, 201)\n",
    "con = engine.connect()\n",
    "try:\n",
    "    res_avg = pd.read_sql_query(q,con)\n",
    "except Exception as e:\n",
    "    if is_debug:\n",
    "        print(e)\n",
    "    pass\n",
    "con.close()\n",
    "engine.dispose()\n",
    "\n",
    "res_avg['avg_num_member'][0]"
   ]
  },
  {
   "cell_type": "code",
   "execution_count": null,
   "id": "7a2e32f9",
   "metadata": {},
   "outputs": [],
   "source": [
    "res_avg."
   ]
  },
  {
   "cell_type": "code",
   "execution_count": null,
   "id": "1e6916bd",
   "metadata": {},
   "outputs": [],
   "source": []
  },
  {
   "cell_type": "code",
   "execution_count": null,
   "id": "183e3041",
   "metadata": {},
   "outputs": [],
   "source": []
  },
  {
   "cell_type": "code",
   "execution_count": null,
   "id": "d2919375",
   "metadata": {},
   "outputs": [],
   "source": []
  },
  {
   "cell_type": "code",
   "execution_count": null,
   "id": "34cf10c6",
   "metadata": {},
   "outputs": [],
   "source": []
  },
  {
   "cell_type": "code",
   "execution_count": null,
   "id": "e59f2af6",
   "metadata": {},
   "outputs": [],
   "source": []
  },
  {
   "cell_type": "code",
   "execution_count": null,
   "id": "74744088",
   "metadata": {},
   "outputs": [],
   "source": []
  },
  {
   "cell_type": "code",
   "execution_count": null,
   "id": "44c0ac63",
   "metadata": {},
   "outputs": [],
   "source": []
  },
  {
   "cell_type": "code",
   "execution_count": null,
   "id": "5f2e3153",
   "metadata": {},
   "outputs": [],
   "source": []
  },
  {
   "cell_type": "code",
   "execution_count": null,
   "id": "e61e9c86",
   "metadata": {},
   "outputs": [],
   "source": []
  },
  {
   "cell_type": "code",
   "execution_count": null,
   "id": "c9f0459d",
   "metadata": {},
   "outputs": [],
   "source": []
  },
  {
   "cell_type": "code",
   "execution_count": null,
   "id": "ee88ac79",
   "metadata": {},
   "outputs": [],
   "source": []
  },
  {
   "cell_type": "code",
   "execution_count": null,
   "id": "8a8ce259",
   "metadata": {},
   "outputs": [],
   "source": []
  },
  {
   "cell_type": "code",
   "execution_count": null,
   "id": "631e1055",
   "metadata": {},
   "outputs": [],
   "source": []
  },
  {
   "cell_type": "code",
   "execution_count": null,
   "id": "49e78cde",
   "metadata": {},
   "outputs": [],
   "source": []
  },
  {
   "cell_type": "code",
   "execution_count": null,
   "id": "da2b8f48",
   "metadata": {},
   "outputs": [],
   "source": []
  },
  {
   "cell_type": "code",
   "execution_count": null,
   "id": "baafd9bb",
   "metadata": {},
   "outputs": [],
   "source": []
  },
  {
   "cell_type": "code",
   "execution_count": null,
   "id": "b20c9ae9",
   "metadata": {},
   "outputs": [],
   "source": []
  },
  {
   "cell_type": "code",
   "execution_count": null,
   "id": "79053e21",
   "metadata": {},
   "outputs": [],
   "source": []
  },
  {
   "cell_type": "code",
   "execution_count": null,
   "id": "dbd2be07",
   "metadata": {},
   "outputs": [],
   "source": []
  },
  {
   "cell_type": "code",
   "execution_count": null,
   "id": "92cabcd6",
   "metadata": {},
   "outputs": [],
   "source": []
  },
  {
   "cell_type": "code",
   "execution_count": null,
   "id": "41554f10",
   "metadata": {},
   "outputs": [],
   "source": []
  },
  {
   "cell_type": "code",
   "execution_count": null,
   "id": "d078503e",
   "metadata": {},
   "outputs": [],
   "source": []
  },
  {
   "cell_type": "code",
   "execution_count": null,
   "id": "7c293bc0",
   "metadata": {},
   "outputs": [],
   "source": [
    "df_tto['TRO_VOUCHER_USAGE'] = df_tto['TRO_VOUCHER_USAGE']\\\n",
    "                            .astype('float', errors='ignore').astype('int', errors='ignore')\n",
    "df_tto['TRO_DH_SPESIAL'] = df_tto['TRO_DH_SPESIAL']\\\n",
    "                            .astype('float', errors='ignore').astype('int', errors='ignore')\n",
    "\n",
    "\n",
    "df_tto_sel = df_tto[(df_tto['TRO_DATE'] >= '2021-10-01') \\\n",
    "            & (df_tto['TRO_DATE'] <= '2022-01-31')]"
   ]
  },
  {
   "cell_type": "code",
   "execution_count": null,
   "id": "300cefc8",
   "metadata": {},
   "outputs": [],
   "source": []
  },
  {
   "cell_type": "code",
   "execution_count": null,
   "id": "4b81c600",
   "metadata": {},
   "outputs": [],
   "source": []
  },
  {
   "cell_type": "code",
   "execution_count": null,
   "id": "0d383b89",
   "metadata": {},
   "outputs": [],
   "source": []
  },
  {
   "cell_type": "code",
   "execution_count": null,
   "id": "5904e87f",
   "metadata": {},
   "outputs": [],
   "source": []
  },
  {
   "cell_type": "code",
   "execution_count": null,
   "id": "a7e0ef5e",
   "metadata": {},
   "outputs": [],
   "source": []
  },
  {
   "cell_type": "code",
   "execution_count": null,
   "id": "9ae517ce",
   "metadata": {},
   "outputs": [],
   "source": []
  },
  {
   "cell_type": "code",
   "execution_count": null,
   "id": "f929f693",
   "metadata": {},
   "outputs": [],
   "source": [
    "df_sla = pd.read_csv('./feature/sla_31Jan22.csv')\n",
    "df_sla['ATT_SEND_DATE_TOSTORE'] = pd.to_datetime(df_sla['ATT_SEND_DATE_TOSTORE'])\n",
    "df_sla['SLA'] = np.where(df_sla['SLA_NORM']< 0, 20, df_sla['SLA_NORM'])\n",
    "\n",
    "df_tto_sel = pd.merge(df_tto_sel, df_sla, left_on='TRO_NO_ORDER', right_on='ATT_ORDER_ID', how='left')\n",
    "\n",
    "col_drop = [\n",
    "    'ATT_ORDER_ID',\n",
    "    'ATT_ORDER_DATE',\n",
    "    'ATT_DELIVERY_DATE',\n",
    "    'ATT_SEND_DATE_TOSTORE',\n",
    "    'SLA_NORM'        \n",
    "]\n",
    "df_tto_sel = df_tto_sel.drop(col_drop,1)\n",
    "\n",
    "## create feature\n",
    "df_tto_sel['SLA'] = df_tto_sel['SLA'].fillna(20)\n",
    "df_tto_sel['SLA_LATE'] = np.where(df_tto_sel['SLA'] > 60, 1,0)"
   ]
  },
  {
   "cell_type": "code",
   "execution_count": null,
   "id": "357661d0",
   "metadata": {},
   "outputs": [],
   "source": []
  },
  {
   "cell_type": "code",
   "execution_count": null,
   "id": "085aa4e2",
   "metadata": {},
   "outputs": [],
   "source": []
  },
  {
   "cell_type": "code",
   "execution_count": null,
   "id": "7f7e02dc",
   "metadata": {},
   "outputs": [],
   "source": []
  },
  {
   "cell_type": "code",
   "execution_count": null,
   "id": "b19767c5",
   "metadata": {},
   "outputs": [],
   "source": []
  },
  {
   "cell_type": "code",
   "execution_count": null,
   "id": "56f0b4b9",
   "metadata": {},
   "outputs": [],
   "source": []
  },
  {
   "cell_type": "code",
   "execution_count": null,
   "id": "f46fad54",
   "metadata": {},
   "outputs": [],
   "source": [
    "q = '''\n",
    "SELECT \n",
    "\ttc.TRO_MEMBERS, \n",
    "\t(TO_DATE('2022/02/08', 'yyyy/mm/dd')) - zt.tgl_registrasi AS SINCE_REGIS\n",
    "FROM \n",
    "\tTEMP_CHURN tc\n",
    "LEFT JOIN (\n",
    "\tselect \n",
    "\t\tchar1 no_member, char4 jenis_kelamin, char5 status_nikah, date1 tgl_lahir, date2 tgl_registrasi\n",
    "\tfrom \n",
    "\t\treport.ztampungan\n",
    "\twhere \n",
    "\t\tpk='MEMBERALFAGIFT2'\n",
    ") zt ON zt.no_member = tc.TRO_MEMBERS \n",
    "\n",
    "'''\n",
    "\n",
    "con = ds_db.connect_alfabi()\n",
    "\n",
    "df_regis = pd.read_sql_query(q, con)\n",
    "\n",
    "con.close()"
   ]
  },
  {
   "cell_type": "code",
   "execution_count": null,
   "id": "a8d941c0",
   "metadata": {},
   "outputs": [],
   "source": [
    "df_regis['SINCE_REGIS'] = df_regis['SINCE_REGIS'].fillna('-1')"
   ]
  },
  {
   "cell_type": "code",
   "execution_count": null,
   "id": "b22b5897",
   "metadata": {},
   "outputs": [],
   "source": []
  },
  {
   "cell_type": "code",
   "execution_count": null,
   "id": "f9d2e517",
   "metadata": {},
   "outputs": [],
   "source": []
  },
  {
   "cell_type": "code",
   "execution_count": null,
   "id": "360260f1",
   "metadata": {},
   "outputs": [],
   "source": []
  },
  {
   "cell_type": "code",
   "execution_count": null,
   "id": "fe4d74f3",
   "metadata": {},
   "outputs": [],
   "source": []
  },
  {
   "cell_type": "code",
   "execution_count": null,
   "id": "17130b7d",
   "metadata": {},
   "outputs": [],
   "source": [
    "df_tto_sel_g = df_tto_sel.groupby(['TRO_MEMBERS','TRO_DATE_MONTH','TRO_NO_ORDER'])\\\n",
    "                        .agg({'TRO_NET':'sum',\n",
    "                              'TRO_DH_SPESIAL':'sum',\n",
    "                              'TRO_NO_ORDER':'nunique',\n",
    "                              'SLA':'first',\n",
    "                              'SLA_LATE':'first',\n",
    "                              'TRO_VOUCHER_USAGE':'sum',\n",
    "                              'TRO_PAYMENT_METHOD':'first'\n",
    "                              ''\n",
    "                             })\n",
    "df_tto_sel_g = df_tto_sel_g.groupby(['TRO_MEMBERS','TRO_DATE_MONTH'])\\\n",
    "                        .agg({'TRO_NET':'sum',\n",
    "                              'TRO_DH_SPESIAL':'sum',\n",
    "                              'TRO_NO_ORDER':'sum',\n",
    "                              'SLA':'sum',\n",
    "                              'SLA_LATE':'sum',\n",
    "                              'TRO_VOUCHER_USAGE':'sum',\n",
    "                              'TRO_PAYMENT_METHOD':'nunique'\n",
    "                             })"
   ]
  },
  {
   "cell_type": "code",
   "execution_count": null,
   "id": "e4ca3292",
   "metadata": {},
   "outputs": [],
   "source": []
  },
  {
   "cell_type": "code",
   "execution_count": null,
   "id": "f63fc41f",
   "metadata": {},
   "outputs": [],
   "source": []
  },
  {
   "cell_type": "markdown",
   "id": "4c5952a9",
   "metadata": {},
   "source": [
    "## unstack all feature in oshop"
   ]
  },
  {
   "cell_type": "code",
   "execution_count": null,
   "id": "2cee2156",
   "metadata": {},
   "outputs": [],
   "source": [
    "df_tto_sel_g_u = df_tto_sel_g.unstack(level=1).fillna(0).reset_index()\n",
    "df_tto_sel_g_u.columns = [' '.join(col).strip().upper() for col in df_tto_sel_g_u.columns.values]"
   ]
  },
  {
   "cell_type": "code",
   "execution_count": null,
   "id": "6488f1c9",
   "metadata": {},
   "outputs": [],
   "source": []
  },
  {
   "cell_type": "code",
   "execution_count": null,
   "id": "e1af6741",
   "metadata": {},
   "outputs": [],
   "source": []
  },
  {
   "cell_type": "code",
   "execution_count": null,
   "id": "14e2dede",
   "metadata": {},
   "outputs": [],
   "source": []
  },
  {
   "cell_type": "markdown",
   "id": "14e9fe47",
   "metadata": {},
   "source": [
    "## merge with rating"
   ]
  },
  {
   "cell_type": "code",
   "execution_count": null,
   "id": "d2beb01d",
   "metadata": {},
   "outputs": [],
   "source": [
    "df_re_g_u['TRO_MEMBERS'] = df_re_g_u['TRO_MEMBERS'].astype(str)\n",
    "df_tto_re = pd.merge(df_tto_sel_g_u, df_re_g_u, on='TRO_MEMBERS', how='left').fillna(0)"
   ]
  },
  {
   "cell_type": "code",
   "execution_count": null,
   "id": "749fbbbd",
   "metadata": {},
   "outputs": [],
   "source": []
  },
  {
   "cell_type": "markdown",
   "id": "d4ba2d44",
   "metadata": {},
   "source": [
    "## merge with product view"
   ]
  },
  {
   "cell_type": "code",
   "execution_count": null,
   "id": "be2e09c8",
   "metadata": {},
   "outputs": [],
   "source": [
    "df_pv['TRO_MEMBERS'] = df_pv['TRO_MEMBERS'].astype(str)\n",
    "df_tto_re_pv = pd.merge(df_tto_re, df_pv, on='TRO_MEMBERS', how='left').fillna(0)"
   ]
  },
  {
   "cell_type": "code",
   "execution_count": null,
   "id": "58b56dd2",
   "metadata": {},
   "outputs": [],
   "source": []
  },
  {
   "cell_type": "markdown",
   "id": "1ebd6e0d",
   "metadata": {},
   "source": [
    "## merge with regis"
   ]
  },
  {
   "cell_type": "code",
   "execution_count": null,
   "id": "718726c4",
   "metadata": {},
   "outputs": [],
   "source": [
    "df_tto_re_pv = pd.merge(df_tto_re_pv, df_regis, on='TRO_MEMBERS')\n",
    "df_tto_re_pv = df_tto_re_pv[df_tto_re_pv['SINCE_REGIS'].astype(int) > 0]"
   ]
  },
  {
   "cell_type": "code",
   "execution_count": null,
   "id": "c4a850e8",
   "metadata": {},
   "outputs": [],
   "source": [
    "df_tto_re_pv.head()"
   ]
  },
  {
   "cell_type": "code",
   "execution_count": null,
   "id": "6d4ed26a",
   "metadata": {},
   "outputs": [],
   "source": []
  },
  {
   "cell_type": "code",
   "execution_count": null,
   "id": "7ae4bbc4",
   "metadata": {},
   "outputs": [],
   "source": []
  },
  {
   "cell_type": "code",
   "execution_count": null,
   "id": "81b602e2",
   "metadata": {},
   "outputs": [],
   "source": [
    "df_tto_re_pv['NET 11-10'] = df_tto_re_pv['TRO_NET 2021-11'] - df_tto_re_pv['TRO_NET 2021-10']\n",
    "df_tto_re_pv['NET 10-09'] = df_tto_re_pv['TRO_NET 2021-10'] - df_tto_re_pv['TRO_NET 2021-09']\n",
    "df_tto_re_pv['NET 11-09'] = df_tto_re_pv['TRO_NET 2021-11'] - df_tto_re_pv['TRO_NET 2021-09']\n",
    "\n",
    "df_tto_re_pv['STRUK 11-10'] = df_tto_re_pv['TRO_NO_ORDER 2021-11'] - df_tto_re_pv['TRO_NO_ORDER 2021-10']\n",
    "df_tto_re_pv['STRUK 10-09'] = df_tto_re_pv['TRO_NO_ORDER 2021-10'] - df_tto_re_pv['TRO_NO_ORDER 2021-09']\n",
    "df_tto_re_pv['STRUK 11-09'] = df_tto_re_pv['TRO_NO_ORDER 2021-11'] - df_tto_re_pv['TRO_NO_ORDER 2021-09']\n",
    "\n",
    "df_tto_re_pv['PV 11-10'] = df_tto_re_pv['PV 2021-11'] - df_tto_re_pv['PV 2021-10']\n",
    "df_tto_re_pv['PV 10-09'] = df_tto_re_pv['PV 2021-10'] - df_tto_re_pv['PV 2021-09']\n",
    "df_tto_re_pv['PV 11-09'] = df_tto_re_pv['PV 2021-11'] - df_tto_re_pv['PV 2021-09']\n",
    "\n",
    "df_tto_re_pv['SLA 11-10'] = df_tto_re_pv['SLA 2021-11'] - df_tto_re_pv['SLA 2021-10']\n",
    "df_tto_re_pv['SLA 10-09'] = df_tto_re_pv['SLA 2021-10'] - df_tto_re_pv['SLA 2021-09']\n",
    "df_tto_re_pv['SLA 11-09'] = df_tto_re_pv['SLA 2021-11'] - df_tto_re_pv['SLA 2021-09']\n",
    "\n",
    "df_tto_re_pv['BASKET 11'] = df_tto_re_pv['TRO_NET 2021-11']/df_tto_re_pv['TRO_NO_ORDER 2021-11']\n",
    "df_tto_re_pv['BASKET 10'] = df_tto_re_pv['TRO_NET 2021-10']/df_tto_re_pv['TRO_NO_ORDER 2021-10']\n",
    "df_tto_re_pv['BASKET 09'] = df_tto_re_pv['TRO_NET 2021-09']/df_tto_re_pv['TRO_NO_ORDER 2021-09']\n",
    "\n",
    "df_tto_re_pv['BASKET AVG'] = (df_tto_re_pv['BASKET 11'] + df_tto_re_pv['BASKET 10'] + df_tto_re_pv['BASKET 09']) / 3"
   ]
  },
  {
   "cell_type": "code",
   "execution_count": null,
   "id": "c046b62e",
   "metadata": {},
   "outputs": [],
   "source": [
    "# print(df_ins[df_ins['label'] == 1]['NET_11-10'].median())\n",
    "# print(df_ins[df_ins['label'] == 1]['NET_10-09'].median())\n",
    "# print(df_ins[df_ins['label'] == 1]['NET_11-09'].median())\n",
    "# print(df_ins[df_ins['label'] == 1]['STRUK_11-10'].mean())\n",
    "# print(df_ins[df_ins['label'] == 1]['STRUK_10-09'].mean())\n",
    "# print(df_ins[df_ins['label'] == 1]['STRUK_11-09'].mean())"
   ]
  },
  {
   "cell_type": "code",
   "execution_count": null,
   "id": "a71396f6",
   "metadata": {},
   "outputs": [],
   "source": []
  },
  {
   "cell_type": "code",
   "execution_count": null,
   "id": "533c7694",
   "metadata": {},
   "outputs": [],
   "source": []
  },
  {
   "cell_type": "code",
   "execution_count": null,
   "id": "14b9e6a0",
   "metadata": {},
   "outputs": [],
   "source": []
  },
  {
   "cell_type": "code",
   "execution_count": null,
   "id": "18ffc298",
   "metadata": {},
   "outputs": [],
   "source": []
  },
  {
   "cell_type": "code",
   "execution_count": null,
   "id": "6daf3442",
   "metadata": {},
   "outputs": [],
   "source": []
  },
  {
   "cell_type": "markdown",
   "id": "570f0320",
   "metadata": {},
   "source": [
    "## PCA Explained"
   ]
  },
  {
   "cell_type": "code",
   "execution_count": null,
   "id": "7e2c8abc",
   "metadata": {},
   "outputs": [],
   "source": [
    "import matplotlib.pyplot as plt\n",
    "from sklearn.decomposition import PCA\n",
    "import seaborn as sns\n",
    "\n",
    "from sklearn.model_selection import StratifiedKFold\n",
    "condition_2_3 = (\n",
    "((df_tto_re_pv['TRO_NET 2021-09'] > 0) & \\\n",
    "(df_tto_re_pv['TRO_NET 2021-10'] > 0) & \\\n",
    "(df_tto_re_pv['TRO_NET 2021-11'] > 0) & \\\n",
    "(df_tto_re_pv['TRO_NET 2021-12'] == 0)) | \\\n",
    "    \n",
    "((df_tto_re_pv['TRO_NET 2021-09'] > 0) & \\\n",
    "(df_tto_re_pv['TRO_NET 2021-10'] == 0) & \\\n",
    "(df_tto_re_pv['TRO_NET 2021-11'] > 0) & \\\n",
    "(df_tto_re_pv['TRO_NET 2021-12'] == 0)) |\n",
    "    \n",
    "((df_tto_re_pv['TRO_NET 2021-09'] == 0) & \\\n",
    "(df_tto_re_pv['TRO_NET 2021-10'] > 0) & \\\n",
    "(df_tto_re_pv['TRO_NET 2021-11'] > 0) & \\\n",
    "(df_tto_re_pv['TRO_NET 2021-12'] == 0))\n",
    ")\n",
    "\n",
    "df_tto_re_pv['label'] = np.where(condition_2_3, 1, 0)\n",
    "\n",
    "\n",
    "X = df_tto_re_pv.drop(\n",
    "[\n",
    "'TRO_MEMBERS',\n",
    "'TRO_NET 2021-12', \n",
    "'TRO_NO_ORDER 2021-12',\n",
    "'SLA 2021-12',\n",
    "'SLA_LATE 2021-12',\n",
    "'RATING_BELOW 2021-12',\n",
    "'RATING_AVG 2021-12',\n",
    "'PV 2021-12',\n",
    "'TRO_VOUCHER_USAGE 2021-12',\n",
    "'TRO_PAYMENT_METHOD 2021-12',\n",
    "'label'\n",
    "], 1\n",
    ")\n",
    "y = df_tto_re_pv[['label']]\n",
    "matrix = X.iloc[:,0:].copy()\n",
    "pca = PCA()\n",
    "pca.fit(matrix)\n",
    "pca_samples = pca.transform(matrix)\n",
    "\n",
    "fig, ax = plt.subplots(figsize=(14, 7), dpi=170)\n",
    "sns.set(font_scale=1)\n",
    "plt.step(range(matrix.shape[1]), pca.explained_variance_ratio_.cumsum(), where='mid',\n",
    "         label='cumulative explained variance')\n",
    "sns.barplot(np.arange(1,matrix.shape[1]+1), pca.explained_variance_ratio_, alpha=0.5, color = 'g',\n",
    "            label='individual explained variance')\n",
    "plt.xlim(0, 100)\n",
    "\n",
    "ax.set_xticklabels([s if int(s.get_text())%2 == 0 else '' for s in ax.get_xticklabels()])\n",
    "\n",
    "plt.ylabel('Explained variance', fontsize = 14)\n",
    "plt.xlabel('Principal components', fontsize = 14)\n",
    "plt.legend(loc='upper left', fontsize = 13);"
   ]
  },
  {
   "cell_type": "code",
   "execution_count": null,
   "id": "1746ba42",
   "metadata": {},
   "outputs": [],
   "source": []
  },
  {
   "cell_type": "markdown",
   "id": "0ddb04fd",
   "metadata": {},
   "source": [
    "## Hist Boosting"
   ]
  },
  {
   "cell_type": "code",
   "execution_count": null,
   "id": "56b87df9",
   "metadata": {
    "scrolled": false
   },
   "outputs": [],
   "source": [
    "from sklearn.ensemble import HistGradientBoostingClassifier\n",
    "\n",
    "\n",
    "from sklearn.model_selection import StratifiedKFold\n",
    "condition_2_3 = (\n",
    "((df_tto_re_pv['TRO_NET 2021-09'] > 0) & \\\n",
    "(df_tto_re_pv['TRO_NET 2021-10'] > 0) & \\\n",
    "(df_tto_re_pv['TRO_NET 2021-11'] > 0) & \\\n",
    "(df_tto_re_pv['TRO_NET 2021-12'] == 0)) | \\\n",
    "    \n",
    "((df_tto_re_pv['TRO_NET 2021-09'] > 0) & \\\n",
    "(df_tto_re_pv['TRO_NET 2021-10'] == 0) & \\\n",
    "(df_tto_re_pv['TRO_NET 2021-11'] > 0) & \\\n",
    "(df_tto_re_pv['TRO_NET 2021-12'] == 0)) |\n",
    "    \n",
    "((df_tto_re_pv['TRO_NET 2021-09'] == 0) & \\\n",
    "(df_tto_re_pv['TRO_NET 2021-10'] > 0) & \\\n",
    "(df_tto_re_pv['TRO_NET 2021-11'] > 0) & \\\n",
    "(df_tto_re_pv['TRO_NET 2021-12'] == 0))\n",
    ")\n",
    "\n",
    "df_tto_re_pv['label'] = np.where(condition_2_3, 1, 0)\n",
    "\n",
    "\n",
    "X = df_tto_re_pv.drop(\n",
    "[\n",
    "'TRO_MEMBERS',\n",
    "'TRO_NET 2021-12', \n",
    "'TRO_DH_SPESIAL 2021-12',\n",
    "'TRO_NO_ORDER 2021-12',\n",
    "'SLA 2021-12',\n",
    "'SLA_LATE 2021-12',\n",
    "'RATING_BELOW 2021-12',\n",
    "'RATING_AVG 2021-12',\n",
    "'PV 2021-12',\n",
    "'TRO_VOUCHER_USAGE 2021-12',\n",
    "'TRO_PAYMENT_METHOD 2021-12',\n",
    "'label'\n",
    "], 1\n",
    ")\n",
    "y = df_tto_re_pv[['label']]\n",
    "\n",
    "\n",
    "\n",
    "skf = StratifiedKFold(n_splits=5)\n",
    "for train_index, test_index in skf.split(X, y):\n",
    "    print(\"=\"*50)\n",
    "    X_train, X_test = X.iloc[train_index,:], X.iloc[test_index,:]\n",
    "    y_train, y_test = y.iloc[train_index,:], y.iloc[test_index,:]\n",
    "\n",
    "    \n",
    "    ## applying standard scaler\n",
    "    scaler = StandardScaler()\n",
    "    scaler.fit(X_train)\n",
    "    X_train = pd.DataFrame(scaler.transform(X_train), index=X_train.index, columns=X_train.columns)\n",
    "    X_test = pd.DataFrame(scaler.transform(X_test), index=X_test.index, columns=X_train.columns)\n",
    "    \n",
    "\n",
    "\n",
    "    clf_ridge = HistGradientBoostingClassifier()\n",
    "    clf_ridge.fit(X_train, y_train) \n",
    "    pred = clf_ridge.predict(X_test)\n",
    "\n",
    "    print(classification_report(y_test, pred))\n",
    "    fig, ax = plt.subplots(figsize=(5, 5), dpi=100)\n",
    "    ConfusionMatrixDisplay.from_predictions(y_test, pred, \n",
    "                                            cmap='Blues', display_labels= ['not_churn', 'churn'], \n",
    "                                            ax = ax, values_format = 'd')\n",
    "\n"
   ]
  },
  {
   "cell_type": "markdown",
   "id": "c74ddc98",
   "metadata": {},
   "source": [
    "## Random Forest"
   ]
  },
  {
   "cell_type": "markdown",
   "id": "a38aa885",
   "metadata": {},
   "source": [
    "### not oversampling version without threshold 2/3"
   ]
  },
  {
   "cell_type": "code",
   "execution_count": null,
   "id": "ff9ff402",
   "metadata": {
    "scrolled": false
   },
   "outputs": [],
   "source": [
    "from sklearn.model_selection import StratifiedKFold\n",
    "condition_2_3 = (\n",
    "((df_tto_re_pv['TRO_NET 2021-10'] > 0) & \\\n",
    "(df_tto_re_pv['TRO_NET 2021-11'] > 0) & \\\n",
    "(df_tto_re_pv['TRO_NET 2021-12'] > 0) & \\\n",
    "(df_tto_re_pv['TRO_NET 2022-01'] == 0)) | \\\n",
    "    \n",
    "((df_tto_re_pv['TRO_NET 2021-10'] > 0) & \\\n",
    "(df_tto_re_pv['TRO_NET 2021-11'] == 0) & \\\n",
    "(df_tto_re_pv['TRO_NET 2021-12'] > 0) & \\\n",
    "(df_tto_re_pv['TRO_NET 2022-01'] == 0)) |\n",
    "    \n",
    "((df_tto_re_pv['TRO_NET 2021-10'] == 0) & \\\n",
    "(df_tto_re_pv['TRO_NET 2021-11'] > 0) & \\\n",
    "(df_tto_re_pv['TRO_NET 2021-12'] > 0) & \\\n",
    "(df_tto_re_pv['TRO_NET 2022-01'] == 0))\n",
    ")\n",
    "\n",
    "df_tto_re_pv['label'] = np.where(condition_2_3, 1, 0)\n",
    "\n",
    "\n",
    "X = df_tto_re_pv.drop(\n",
    "[\n",
    "'TRO_MEMBERS',\n",
    "'TRO_NET 2022-01', \n",
    "'TRO_DH_SPESIAL 2022-01',\n",
    "'TRO_NO_ORDER 2022-01',\n",
    "'SLA 2022-01',\n",
    "'SLA_LATE 2022-01',\n",
    "'RATING_BELOW 2022-01',\n",
    "'RATING_AVG 2022-01',\n",
    "'PV 2022-01',\n",
    "'TRO_VOUCHER_USAGE 2022-01',\n",
    "'TRO_PAYMENT_METHOD 2022-01',\n",
    "'label'\n",
    "], 1\n",
    ")\n",
    "y = df_tto_re_pv[['label']]\n",
    "\n",
    "\n",
    "\n",
    "# skf = StratifiedKFold(n_splits=5)\n",
    "# for train_index, test_index in skf.split(X, y):\n",
    "#     print(\"=\"*50)\n",
    "#     X_train, X_test = X.iloc[train_index,:], X.iloc[test_index,:]\n",
    "#     y_train, y_test = y.iloc[train_index,:], y.iloc[test_index,:]\n",
    "\n",
    "\n",
    "    \n",
    "#     ## applying standard scaler\n",
    "#     scaler = StandardScaler()\n",
    "#     scaler.fit(X_train)\n",
    "#     X_train = pd.DataFrame(scaler.transform(X_train), index=X_train.index, columns=X_train.columns)\n",
    "#     X_test = pd.DataFrame(scaler.transform(X_test), index=X_test.index, columns=X_train.columns)\n",
    "    \n",
    "\n",
    "#     #clf_ridge = RandomForestClassifier(random_state=42) \n",
    "#     clf_ridge = MLPClassifier(random_state=1, max_iter=300, hidden_layer_sizes=(100,))\n",
    "#     clf_ridge.fit(X_train, y_train) \n",
    "#     pred = clf_ridge.predict(X_test)\n",
    "#     print(classification_report(y_test, pred))\n",
    "#     fig, ax = plt.subplots(figsize=(5, 5), dpi=100)\n",
    "#     ConfusionMatrixDisplay.from_predictions(y_test, pred, \n",
    "#                                             cmap='Blues', display_labels= ['not_churn', 'churn'], \n",
    "#                                             ax = ax, values_format = 'd')\n",
    "\n",
    "\n",
    "\n",
    "\n",
    "## applying standard scaler\n",
    "scaler = StandardScaler()\n",
    "scaler.fit(X)\n",
    "X = pd.DataFrame(scaler.transform(X), index=X.index, columns=X.columns)\n",
    "dump(scaler, './model/scaler_jan22.joblib')\n",
    "\n",
    "\n",
    "clf_all_mlp = MLPClassifier(random_state=1, max_iter=300, hidden_layer_sizes=(100,))\n",
    "clf_all_mlp.fit(X, y) \n",
    "dump(clf_all_mlp, './model/mlp_jan22.joblib')\n"
   ]
  },
  {
   "cell_type": "code",
   "execution_count": null,
   "id": "ab8eb796",
   "metadata": {},
   "outputs": [],
   "source": []
  },
  {
   "cell_type": "code",
   "execution_count": null,
   "id": "6d59b1f8",
   "metadata": {},
   "outputs": [],
   "source": [
    "pd.set_option('display.float_format', lambda x: '%.4f' % x)"
   ]
  },
  {
   "cell_type": "code",
   "execution_count": null,
   "id": "3448e17a",
   "metadata": {},
   "outputs": [],
   "source": [
    "importances = pd.DataFrame({'feature':X.columns,'importance':np.round(clf_all.feature_importances_,3)})\n",
    "importances = importances.sort_values('importance',ascending=False).set_index('feature')\n",
    "importances = importances[0:20]"
   ]
  },
  {
   "cell_type": "code",
   "execution_count": null,
   "id": "c1ff5734",
   "metadata": {},
   "outputs": [],
   "source": [
    "importances.reset_index().head(10)"
   ]
  },
  {
   "cell_type": "code",
   "execution_count": null,
   "id": "86093726",
   "metadata": {},
   "outputs": [],
   "source": [
    "clf_all_mlp.coefs_"
   ]
  },
  {
   "cell_type": "code",
   "execution_count": null,
   "id": "ff2e3442",
   "metadata": {},
   "outputs": [],
   "source": [
    "df_fit = pd.concat([pd.DataFrame(promo_feature[p_type], columns=['variabel']), \n",
    "           pd.DataFrame(pd.Series(clf.coef_), columns=['bobot'])], 1)"
   ]
  },
  {
   "cell_type": "code",
   "execution_count": null,
   "id": "8babd364",
   "metadata": {},
   "outputs": [],
   "source": [
    "dump(clf_all, './model/rf_jan22.joblib')"
   ]
  },
  {
   "cell_type": "code",
   "execution_count": null,
   "id": "f6919336",
   "metadata": {},
   "outputs": [],
   "source": [
    "# dump(clf_all_mlp, './model/mlp_jan22.joblib')"
   ]
  },
  {
   "cell_type": "code",
   "execution_count": null,
   "id": "39b2efd2",
   "metadata": {
    "scrolled": false
   },
   "outputs": [],
   "source": [
    "from sklearn.model_selection import StratifiedKFold\n",
    "condition_2_3 = (\n",
    "((df_tto_re_pv['TRO_NET 2021-09'] > 0) & \\\n",
    "(df_tto_re_pv['TRO_NET 2021-10'] > 0) & \\\n",
    "(df_tto_re_pv['TRO_NET 2021-11'] > 0) & \\\n",
    "(df_tto_re_pv['TRO_NET 2021-12'] == 0)) | \\\n",
    "    \n",
    "((df_tto_re_pv['TRO_NET 2021-09'] > 0) & \\\n",
    "(df_tto_re_pv['TRO_NET 2021-10'] == 0) & \\\n",
    "(df_tto_re_pv['TRO_NET 2021-11'] > 0) & \\\n",
    "(df_tto_re_pv['TRO_NET 2021-12'] == 0)) |\n",
    "    \n",
    "((df_tto_re_pv['TRO_NET 2021-09'] == 0) & \\\n",
    "(df_tto_re_pv['TRO_NET 2021-10'] > 0) & \\\n",
    "(df_tto_re_pv['TRO_NET 2021-11'] > 0) & \\\n",
    "(df_tto_re_pv['TRO_NET 2021-12'] == 0))\n",
    ")\n",
    "\n",
    "df_tto_re_pv['label'] = np.where(condition_2_3, 1, 0)\n",
    "\n",
    "\n",
    "X = df_tto_re_pv.drop(\n",
    "[\n",
    "'TRO_MEMBERS',\n",
    "'TRO_NET 2021-12', \n",
    "'TRO_DH_SPESIAL 2021-12',\n",
    "'TRO_NO_ORDER 2021-12',\n",
    "'SLA 2021-12',\n",
    "'SLA_LATE 2021-12',\n",
    "'RATING_BELOW 2021-12',\n",
    "'RATING_AVG 2021-12',\n",
    "'PV 2021-12',\n",
    "'TRO_VOUCHER_USAGE 2021-12',\n",
    "'TRO_PAYMENT_METHOD 2021-12',\n",
    "'label'\n",
    "], 1\n",
    ")\n",
    "y = df_tto_re_pv[['label']]\n",
    "\n",
    "\n",
    "\n",
    "skf = StratifiedKFold(n_splits=5)\n",
    "for train_index, test_index in skf.split(X, y):\n",
    "    print(\"=\"*50)\n",
    "    X_train, X_test = X.iloc[train_index,:], X.iloc[test_index,:]\n",
    "    y_train, y_test = y.iloc[train_index,:], y.iloc[test_index,:]\n",
    "\n",
    "    #X_train, X_test, y_train, y_test = train_test_split(X, y, test_size=0.33, random_state=0, stratify=y)\n",
    "    \n",
    "    ## applying standard scaler\n",
    "    scaler = StandardScaler()\n",
    "    scaler.fit(X_train)\n",
    "    X_train = pd.DataFrame(scaler.transform(X_train), index=X_train.index, columns=X_train.columns)\n",
    "    X_test = pd.DataFrame(scaler.transform(X_test), index=X_test.index, columns=X_train.columns)\n",
    "    \n",
    "\n",
    "#     ## applying pca\n",
    "#     n_comp = 5\n",
    "\n",
    "#     pca = PCA(n_components=n_comp)\n",
    "#     pca.fit(X_train)\n",
    "#     X_train = pd.DataFrame(pca.transform(X_train), columns=(['col{}'.format(i) for i in range(1,n_comp+1)]))\n",
    "#     X_test = pd.DataFrame(pca.transform(X_test), columns=(['col{}'.format(i) for i in range(1,n_comp+1)]))\n",
    "\n",
    "    clf_ridge = RandomForestClassifier(random_state=42) \n",
    "#     clf_ridge = LinearSVC(C=0.01, penalty=\"l1\", dual=False)\n",
    "    clf_ridge.fit(X_train, y_train) \n",
    "    pred = clf_ridge.predict(X_test)\n",
    "#     pred = (clf_ridge.predict_proba(X_test)[:,1] >= 0.5).astype(int)\n",
    "    print(classification_report(y_test, pred))\n",
    "    fig, ax = plt.subplots(figsize=(5, 5), dpi=100)\n",
    "    ConfusionMatrixDisplay.from_predictions(y_test, pred, \n",
    "                                            cmap='Blues', display_labels= ['not_churn', 'churn'], \n",
    "                                            ax = ax, values_format = 'd')\n",
    "\n"
   ]
  },
  {
   "cell_type": "code",
   "execution_count": null,
   "id": "0de6c251",
   "metadata": {},
   "outputs": [],
   "source": []
  },
  {
   "cell_type": "code",
   "execution_count": null,
   "id": "298d04b1",
   "metadata": {},
   "outputs": [],
   "source": [
    "df_tto_re_pv[df_tto_re_pv['label'] == 1].head(50)"
   ]
  },
  {
   "cell_type": "code",
   "execution_count": null,
   "id": "8e6fb451",
   "metadata": {},
   "outputs": [],
   "source": [
    "importances.head()"
   ]
  },
  {
   "cell_type": "code",
   "execution_count": null,
   "id": "9e21bd10",
   "metadata": {},
   "outputs": [],
   "source": [
    "importances = pd.DataFrame({'feature':X.columns,'importance':np.round(clf_ridge.feature_importances_,3)})\n",
    "importances = importances.sort_values('importance',ascending=False).set_index('feature')\n",
    "importances = importances[0:20]\n",
    "x_range = list(range(importances.shape[0]))\n",
    "x_plot = list(importances.index)\n",
    "y_plot = list(importances[\"importance\"])\n",
    "plt.figure(figsize=(30,13), dpi=250)\n",
    "plt.title(\"Feature importances\")\n",
    "plt.bar(x_range, y_plot)\n",
    "plt.xticks(x_range, x_plot, rotation='vertical', fontsize=18)\n",
    "fig = plt.gcf()\n"
   ]
  },
  {
   "cell_type": "code",
   "execution_count": null,
   "id": "d6dedb4b",
   "metadata": {},
   "outputs": [],
   "source": []
  },
  {
   "cell_type": "code",
   "execution_count": null,
   "id": "1e15718b",
   "metadata": {},
   "outputs": [],
   "source": []
  },
  {
   "cell_type": "code",
   "execution_count": null,
   "id": "2af94179",
   "metadata": {},
   "outputs": [],
   "source": []
  },
  {
   "cell_type": "code",
   "execution_count": null,
   "id": "7b2eb280",
   "metadata": {},
   "outputs": [],
   "source": []
  },
  {
   "cell_type": "code",
   "execution_count": null,
   "id": "688b9d35",
   "metadata": {},
   "outputs": [],
   "source": []
  },
  {
   "cell_type": "code",
   "execution_count": null,
   "id": "eaa6bde3",
   "metadata": {},
   "outputs": [],
   "source": [
    "a = pd.DataFrame()\n",
    "\n",
    "a['NET 11-10'] = df_tto_re_pv['TRO_NET 2021-12'] - df_tto_re_pv['TRO_NET 2021-11']\n",
    "a['NET 10-09'] = df_tto_re_pv['TRO_NET 2021-11'] - df_tto_re_pv['TRO_NET 2021-10']\n",
    "a['NET 11-09'] = df_tto_re_pv['TRO_NET 2021-12'] - df_tto_re_pv['TRO_NET 2021-10']\n",
    "\n",
    "a['STRUK 11-10'] = df_tto_re_pv['TRO_NO_ORDER 2021-12'] - df_tto_re_pv['TRO_NO_ORDER 2021-11']\n",
    "a['STRUK 10-09'] = df_tto_re_pv['TRO_NO_ORDER 2021-11'] - df_tto_re_pv['TRO_NO_ORDER 2021-10']\n",
    "a['STRUK 11-09'] = df_tto_re_pv['TRO_NO_ORDER 2021-12'] - df_tto_re_pv['TRO_NO_ORDER 2021-10']\n",
    "\n",
    "a['PV 11-10'] = df_tto_re_pv['PV 2021-12'] - df_tto_re_pv['PV 2021-11']\n",
    "a['PV 10-09'] = df_tto_re_pv['PV 2021-11'] - df_tto_re_pv['PV 2021-10']\n",
    "a['PV 11-09'] = df_tto_re_pv['PV 2021-12'] - df_tto_re_pv['PV 2021-10']\n",
    "\n",
    "a['SLA 11-10'] = df_tto_re_pv['SLA 2021-12'] - df_tto_re_pv['SLA 2021-11']\n",
    "a['SLA 10-09'] = df_tto_re_pv['SLA 2021-11'] - df_tto_re_pv['SLA 2021-10']\n",
    "a['SLA 11-09'] = df_tto_re_pv['SLA 2021-12'] - df_tto_re_pv['SLA 2021-10']\n",
    "\n",
    "a['BASKET 11'] = df_tto_re_pv['TRO_NET 2021-12']/df_tto_re_pv['TRO_NO_ORDER 2021-12']\n",
    "a['BASKET 10'] = df_tto_re_pv['TRO_NET 2021-11']/df_tto_re_pv['TRO_NO_ORDER 2021-11']\n",
    "a['BASKET 09'] = df_tto_re_pv['TRO_NET 2021-10']/df_tto_re_pv['TRO_NO_ORDER 2021-10']\n",
    "\n",
    "a['BASKET AVG'] = (df_tto_re_pv['BASKET 11'] + df_tto_re_pv['BASKET 10'] + df_tto_re_pv['BASKET 09']) / 3"
   ]
  },
  {
   "cell_type": "code",
   "execution_count": null,
   "id": "0be195a6",
   "metadata": {},
   "outputs": [],
   "source": [
    "X_12 = df_tto_re_pv.drop(\n",
    "[\n",
    "'TRO_MEMBERS',\n",
    "'TRO_NET 2021-10', \n",
    "'TRO_DH_SPESIAL 2021-10',\n",
    "'TRO_NO_ORDER 2021-10',\n",
    "'SLA 2021-10',\n",
    "'SLA_LATE 2021-10',\n",
    "'RATING_BELOW 2021-10',\n",
    "'RATING_AVG 2021-10',\n",
    "'PV 2021-10',\n",
    "'TRO_VOUCHER_USAGE 2021-10',\n",
    "'TRO_PAYMENT_METHOD 2021-10',\n",
    "# 'label'\n",
    "], 1\n",
    ")\n",
    "\n",
    "# X_12 = pd.concat([X_12.iloc[:,0:-16],a],1)\n",
    "# X_12 = X_12.fillna(0)\n",
    "# y_12 = df_tto_re_pv['label']"
   ]
  },
  {
   "cell_type": "code",
   "execution_count": null,
   "id": "52774a7f",
   "metadata": {},
   "outputs": [],
   "source": [
    "# X_12.head()"
   ]
  },
  {
   "cell_type": "code",
   "execution_count": null,
   "id": "44e8d00a",
   "metadata": {},
   "outputs": [],
   "source": [
    "scaler_all = load('./model/scaler_jan22.joblib')"
   ]
  },
  {
   "cell_type": "code",
   "execution_count": null,
   "id": "fd7e0ddb",
   "metadata": {},
   "outputs": [],
   "source": [
    "clf_all = load('./model/mlp_jan22.joblib')"
   ]
  },
  {
   "cell_type": "code",
   "execution_count": null,
   "id": "72873d49",
   "metadata": {},
   "outputs": [],
   "source": [
    "X_12_scale = pd.DataFrame(scaler_all.transform(X_12), index=X_12.index, columns=X_12.columns)\n",
    "pred = (clf_all.predict_proba(X_12_scale)[:,1] >= 0.6).astype(int)"
   ]
  },
  {
   "cell_type": "code",
   "execution_count": null,
   "id": "dbbb538b",
   "metadata": {},
   "outputs": [],
   "source": []
  },
  {
   "cell_type": "code",
   "execution_count": null,
   "id": "96cebf6a",
   "metadata": {},
   "outputs": [],
   "source": [
    "df_mem_12 = pd.concat([df_tto_re_pv[['TRO_MEMBERS']].reset_index(drop=True)\n",
    "                       , pd.DataFrame(pred, columns=['PRED'])], 1)"
   ]
  },
  {
   "cell_type": "code",
   "execution_count": null,
   "id": "780692e5",
   "metadata": {},
   "outputs": [],
   "source": [
    "df_mem_12[df_mem_12['PRED'] == 1].shape"
   ]
  },
  {
   "cell_type": "code",
   "execution_count": null,
   "id": "c3513fd7",
   "metadata": {},
   "outputs": [],
   "source": [
    "df_churn_sel = df_mem_12[df_mem_12['PRED'] == 1].sample(5000)"
   ]
  },
  {
   "cell_type": "code",
   "execution_count": null,
   "id": "28aae973",
   "metadata": {},
   "outputs": [],
   "source": [
    "df_churn_sel.to_csv('./out_member/member_churn_feb.csv', index=False)"
   ]
  },
  {
   "cell_type": "code",
   "execution_count": null,
   "id": "8b28d244",
   "metadata": {},
   "outputs": [],
   "source": []
  },
  {
   "cell_type": "code",
   "execution_count": null,
   "id": "03413bad",
   "metadata": {},
   "outputs": [],
   "source": []
  },
  {
   "cell_type": "code",
   "execution_count": null,
   "id": "8db4f537",
   "metadata": {},
   "outputs": [],
   "source": [
    "pd.merge(df_churn_sel,df_tto_re_pv,on='TRO_MEMBERS', how='left').head(1000)"
   ]
  },
  {
   "cell_type": "code",
   "execution_count": null,
   "id": "7924af3c",
   "metadata": {},
   "outputs": [],
   "source": []
  }
 ],
 "metadata": {
  "kernelspec": {
   "display_name": "Python 3",
   "language": "python",
   "name": "python3"
  },
  "language_info": {
   "codemirror_mode": {
    "name": "ipython",
    "version": 3
   },
   "file_extension": ".py",
   "mimetype": "text/x-python",
   "name": "python",
   "nbconvert_exporter": "python",
   "pygments_lexer": "ipython3",
   "version": "3.8.5"
  }
 },
 "nbformat": 4,
 "nbformat_minor": 5
}
