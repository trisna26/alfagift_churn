{
 "cells": [
  {
   "cell_type": "code",
   "execution_count": 1,
   "id": "5f043e8a",
   "metadata": {},
   "outputs": [],
   "source": [
    "# HIDE CODE\n",
    "from dateutil.relativedelta import relativedelta\n",
    "import matplotlib.pyplot as plt\n",
    "import matplotlib\n",
    "from matplotlib import cm\n",
    "matplotlib.rcParams.update({'font.size': 12})\n",
    "\n",
    "import warnings\n",
    "import sys\n",
    "import os\n",
    "sys.path.append('/home/server/gli-data-science/')\n",
    "if not sys.warnoptions:\n",
    "    warnings.simplefilter(\"ignore\")\n",
    "    os.environ[\"PYTHONWARNINGS\"] = \"ignore\" # Also affect subprocesses\n",
    "\n",
    "import os\n",
    "import ds_db\n",
    "import helper_db\n",
    "from helper import transform_to_rupiah, rupiah_format\n",
    "\n",
    "import pickle\n",
    "import pandas as pd\n",
    "import numpy as np\n",
    "\n",
    "from datetime import datetime, timedelta\n",
    "\n",
    "pd.set_option('display.max_rows', None)\n",
    "pd.set_option('display.max_columns', None)\n",
    "pd.set_option('display.width', None)\n",
    "pd.set_option('display.max_colwidth', None)\n",
    "pd.set_option('display.float_format', lambda x: '%.1f' % x)\n",
    "pd.options.mode.chained_assignment = None  # default='warn'\n",
    "from IPython.display import display, HTML, display_html, IFrame\n",
    "import ipywidgets as ipyw\n",
    "\n",
    "\n",
    "    \n",
    "from sklearn.preprocessing import StandardScaler\n",
    "from sklearn.preprocessing import MinMaxScaler\n",
    "from sklearn.linear_model import LinearRegression, Ridge, Lasso, RANSACRegressor, RidgeClassifier, LogisticRegression\n",
    "from sklearn.ensemble import RandomForestRegressor, BaggingClassifier, RandomForestClassifier, AdaBoostClassifier, GradientBoostingClassifier\n",
    "from sklearn.tree import DecisionTreeRegressor, export_text, DecisionTreeClassifier\n",
    "from sklearn.neural_network import MLPClassifier\n",
    "from sklearn.svm import SVR, SVC, LinearSVC\n",
    "import xgboost as xgb \n",
    "\n",
    "\n",
    "from joblib import dump, load\n",
    "from sklearn.model_selection import cross_val_score\n",
    "from sklearn.metrics import ConfusionMatrixDisplay\n",
    "from sklearn.metrics import accuracy_score\n",
    "from sklearn.metrics import classification_report\n",
    "from sklearn.metrics import confusion_matrix, plot_confusion_matrix\n",
    "from sklearn.model_selection import train_test_split"
   ]
  },
  {
   "cell_type": "code",
   "execution_count": null,
   "id": "6a1e5b5e",
   "metadata": {},
   "outputs": [],
   "source": []
  },
  {
   "cell_type": "markdown",
   "id": "ec28b2f3",
   "metadata": {},
   "source": [
    "### ide kasar\n",
    "> \n",
    "* daily job to loop all member alfagift 10 juta\n",
    "* compute feature trx voucher used, # of trx, # of sales\n",
    "* compute feature event app site open / view product / atc\n",
    "* updating each feature and re predict churn feature\n",
    "* lets play in month - 3 for each define trx and event feature"
   ]
  },
  {
   "cell_type": "code",
   "execution_count": 2,
   "id": "092afc99",
   "metadata": {},
   "outputs": [],
   "source": [
    "str_now = datetime.now()\n",
    "str_now_month = str_now.strftime('%b%y')"
   ]
  },
  {
   "cell_type": "code",
   "execution_count": null,
   "id": "d6a29430",
   "metadata": {},
   "outputs": [],
   "source": []
  },
  {
   "cell_type": "code",
   "execution_count": 3,
   "id": "cb9204ae",
   "metadata": {},
   "outputs": [],
   "source": [
    "df_pv_ = pd.read_parquet('./feature/pv_{}'.format(str_now_month))\n",
    "df_pv_['EVENT_TIME'] = pd.to_datetime(df_pv_['EVENT_TIME']).dt.strftime('%Y-%m')\n",
    "\n",
    "df_pv = df_pv_.groupby(['TRO_PONTA_ID','EVENT_TIME']).agg(PV=('COUNT_VIEW_PRODUCT','sum'))\\\n",
    "        .unstack(level=1).fillna(0).reset_index()\n",
    "\n",
    "df_pv.columns = [' '.join(col).strip().upper() for col in df_pv.columns.values]"
   ]
  },
  {
   "cell_type": "code",
   "execution_count": 4,
   "id": "7e1b6839",
   "metadata": {},
   "outputs": [
    {
     "data": {
      "text/html": [
       "<div>\n",
       "<style scoped>\n",
       "    .dataframe tbody tr th:only-of-type {\n",
       "        vertical-align: middle;\n",
       "    }\n",
       "\n",
       "    .dataframe tbody tr th {\n",
       "        vertical-align: top;\n",
       "    }\n",
       "\n",
       "    .dataframe thead th {\n",
       "        text-align: right;\n",
       "    }\n",
       "</style>\n",
       "<table border=\"1\" class=\"dataframe\">\n",
       "  <thead>\n",
       "    <tr style=\"text-align: right;\">\n",
       "      <th></th>\n",
       "      <th>TRO_PONTA_ID</th>\n",
       "      <th>PV 2022-06</th>\n",
       "      <th>PV 2022-07</th>\n",
       "      <th>PV 2022-08</th>\n",
       "      <th>PV 2022-09</th>\n",
       "    </tr>\n",
       "  </thead>\n",
       "  <tbody>\n",
       "    <tr>\n",
       "      <th>0</th>\n",
       "      <td>9990010000001200</td>\n",
       "      <td>5.0</td>\n",
       "      <td>1.0</td>\n",
       "      <td>3.0</td>\n",
       "      <td>2.0</td>\n",
       "    </tr>\n",
       "    <tr>\n",
       "      <th>1</th>\n",
       "      <td>9990010000001771</td>\n",
       "      <td>2.0</td>\n",
       "      <td>8.0</td>\n",
       "      <td>2.0</td>\n",
       "      <td>0.0</td>\n",
       "    </tr>\n",
       "    <tr>\n",
       "      <th>2</th>\n",
       "      <td>9990010000001999</td>\n",
       "      <td>1.0</td>\n",
       "      <td>4.0</td>\n",
       "      <td>1.0</td>\n",
       "      <td>0.0</td>\n",
       "    </tr>\n",
       "    <tr>\n",
       "      <th>3</th>\n",
       "      <td>9990010000004582</td>\n",
       "      <td>1.0</td>\n",
       "      <td>2.0</td>\n",
       "      <td>21.0</td>\n",
       "      <td>0.0</td>\n",
       "    </tr>\n",
       "    <tr>\n",
       "      <th>4</th>\n",
       "      <td>9990010000006038</td>\n",
       "      <td>0.0</td>\n",
       "      <td>0.0</td>\n",
       "      <td>0.0</td>\n",
       "      <td>6.0</td>\n",
       "    </tr>\n",
       "  </tbody>\n",
       "</table>\n",
       "</div>"
      ],
      "text/plain": [
       "       TRO_PONTA_ID  PV 2022-06  PV 2022-07  PV 2022-08  PV 2022-09\n",
       "0  9990010000001200         5.0         1.0         3.0         2.0\n",
       "1  9990010000001771         2.0         8.0         2.0         0.0\n",
       "2  9990010000001999         1.0         4.0         1.0         0.0\n",
       "3  9990010000004582         1.0         2.0        21.0         0.0\n",
       "4  9990010000006038         0.0         0.0         0.0         6.0"
      ]
     },
     "execution_count": 4,
     "metadata": {},
     "output_type": "execute_result"
    }
   ],
   "source": [
    "df_pv.head()"
   ]
  },
  {
   "cell_type": "code",
   "execution_count": null,
   "id": "8cbdc9e7",
   "metadata": {},
   "outputs": [],
   "source": []
  },
  {
   "cell_type": "code",
   "execution_count": null,
   "id": "913c598d",
   "metadata": {},
   "outputs": [],
   "source": []
  },
  {
   "cell_type": "code",
   "execution_count": 5,
   "id": "3fbac7ab",
   "metadata": {},
   "outputs": [],
   "source": [
    "df_re_g_u = pd.read_parquet('./feature/rating_{}'.format(str_now_month))\n",
    "df_re_g_u = df_re_g_u.rename(columns={'TRO_MEMBERS':'TRO_PONTA_ID'})"
   ]
  },
  {
   "cell_type": "code",
   "execution_count": 6,
   "id": "7d33ee15",
   "metadata": {},
   "outputs": [
    {
     "data": {
      "text/html": [
       "<div>\n",
       "<style scoped>\n",
       "    .dataframe tbody tr th:only-of-type {\n",
       "        vertical-align: middle;\n",
       "    }\n",
       "\n",
       "    .dataframe tbody tr th {\n",
       "        vertical-align: top;\n",
       "    }\n",
       "\n",
       "    .dataframe thead th {\n",
       "        text-align: right;\n",
       "    }\n",
       "</style>\n",
       "<table border=\"1\" class=\"dataframe\">\n",
       "  <thead>\n",
       "    <tr style=\"text-align: right;\">\n",
       "      <th></th>\n",
       "      <th>TRO_PONTA_ID</th>\n",
       "      <th>RATING_BELOW 2022-06</th>\n",
       "      <th>RATING_BELOW 2022-07</th>\n",
       "      <th>RATING_BELOW 2022-08</th>\n",
       "      <th>RATING_BELOW 2022-09</th>\n",
       "      <th>RATING_AVG 2022-06</th>\n",
       "      <th>RATING_AVG 2022-07</th>\n",
       "      <th>RATING_AVG 2022-08</th>\n",
       "      <th>RATING_AVG 2022-09</th>\n",
       "    </tr>\n",
       "  </thead>\n",
       "  <tbody>\n",
       "    <tr>\n",
       "      <th>0</th>\n",
       "      <td>9990010000001200</td>\n",
       "      <td>0.0</td>\n",
       "      <td>0.0</td>\n",
       "      <td>0.0</td>\n",
       "      <td>0.0</td>\n",
       "      <td>5.0</td>\n",
       "      <td>0.0</td>\n",
       "      <td>0.0</td>\n",
       "      <td>0.0</td>\n",
       "    </tr>\n",
       "    <tr>\n",
       "      <th>1</th>\n",
       "      <td>9990010000006038</td>\n",
       "      <td>0.0</td>\n",
       "      <td>0.0</td>\n",
       "      <td>0.0</td>\n",
       "      <td>0.0</td>\n",
       "      <td>0.0</td>\n",
       "      <td>0.0</td>\n",
       "      <td>0.0</td>\n",
       "      <td>5.0</td>\n",
       "    </tr>\n",
       "    <tr>\n",
       "      <th>2</th>\n",
       "      <td>9990010000084000</td>\n",
       "      <td>0.0</td>\n",
       "      <td>0.0</td>\n",
       "      <td>0.0</td>\n",
       "      <td>0.0</td>\n",
       "      <td>0.0</td>\n",
       "      <td>0.0</td>\n",
       "      <td>0.0</td>\n",
       "      <td>5.0</td>\n",
       "    </tr>\n",
       "    <tr>\n",
       "      <th>3</th>\n",
       "      <td>9990010000090310</td>\n",
       "      <td>0.0</td>\n",
       "      <td>0.0</td>\n",
       "      <td>0.0</td>\n",
       "      <td>0.0</td>\n",
       "      <td>5.0</td>\n",
       "      <td>0.0</td>\n",
       "      <td>0.0</td>\n",
       "      <td>5.0</td>\n",
       "    </tr>\n",
       "    <tr>\n",
       "      <th>4</th>\n",
       "      <td>9990010000102923</td>\n",
       "      <td>0.0</td>\n",
       "      <td>0.0</td>\n",
       "      <td>0.0</td>\n",
       "      <td>0.0</td>\n",
       "      <td>0.0</td>\n",
       "      <td>5.0</td>\n",
       "      <td>0.0</td>\n",
       "      <td>0.0</td>\n",
       "    </tr>\n",
       "  </tbody>\n",
       "</table>\n",
       "</div>"
      ],
      "text/plain": [
       "       TRO_PONTA_ID  RATING_BELOW 2022-06  RATING_BELOW 2022-07  \\\n",
       "0  9990010000001200                   0.0                   0.0   \n",
       "1  9990010000006038                   0.0                   0.0   \n",
       "2  9990010000084000                   0.0                   0.0   \n",
       "3  9990010000090310                   0.0                   0.0   \n",
       "4  9990010000102923                   0.0                   0.0   \n",
       "\n",
       "   RATING_BELOW 2022-08  RATING_BELOW 2022-09  RATING_AVG 2022-06  \\\n",
       "0                   0.0                   0.0                 5.0   \n",
       "1                   0.0                   0.0                 0.0   \n",
       "2                   0.0                   0.0                 0.0   \n",
       "3                   0.0                   0.0                 5.0   \n",
       "4                   0.0                   0.0                 0.0   \n",
       "\n",
       "   RATING_AVG 2022-07  RATING_AVG 2022-08  RATING_AVG 2022-09  \n",
       "0                 0.0                 0.0                 0.0  \n",
       "1                 0.0                 0.0                 5.0  \n",
       "2                 0.0                 0.0                 5.0  \n",
       "3                 0.0                 0.0                 5.0  \n",
       "4                 5.0                 0.0                 0.0  "
      ]
     },
     "execution_count": 6,
     "metadata": {},
     "output_type": "execute_result"
    }
   ],
   "source": [
    "df_re_g_u.head()"
   ]
  },
  {
   "cell_type": "code",
   "execution_count": null,
   "id": "16e76751",
   "metadata": {},
   "outputs": [],
   "source": []
  },
  {
   "cell_type": "code",
   "execution_count": null,
   "id": "2c2cf7a3",
   "metadata": {},
   "outputs": [],
   "source": []
  },
  {
   "cell_type": "code",
   "execution_count": 7,
   "id": "2d577ba7",
   "metadata": {},
   "outputs": [
    {
     "name": "stdout",
     "output_type": "stream",
     "text": [
      "01Jun22 01Jul22\n",
      "01Jul22 01Aug22\n",
      "01Aug22 01Sep22\n",
      "01Sep22 01Oct22\n"
     ]
    }
   ],
   "source": [
    "# HIDE CODE\n",
    "\n",
    "## USING ORDER\n",
    "import glob\n",
    "\n",
    "df_tto = []\n",
    "for end_date in pd.date_range(str_now - relativedelta(months=4), str_now, freq='M'):\n",
    "    start_date = end_date.replace(day=1)\n",
    "    end_date_save = start_date + relativedelta(months=1)\n",
    "    \n",
    "    start_date_str = start_date.strftime('%d%b%y')\n",
    "    end_date_str = end_date_save.strftime('%d%b%y')\n",
    "    \n",
    "    print(start_date_str, end_date_str)\n",
    "    \n",
    "    pf = '/home/server/gli-data-science/data/trans_oshop/{}_{}.parquet'.format(start_date_str, end_date_str)\n",
    "    df_tto.append(pd.read_parquet(pf, engine='fastparquet'))\n",
    "    \n",
    "df_tto = pd.concat(df_tto)\n",
    "\n",
    "# df_tto = df_tto[df_tto['TRO_MEMBERS'] != 'N']\n",
    "df_tto['TRO_DATE'] = pd.to_datetime(df_tto['TRO_DATE'])\n",
    "df_tto['TRO_NET'] = df_tto['TRO_NET'].astype('float', errors='ignore').astype('int', errors='ignore')\n",
    "\n",
    "\n",
    "df_tto['TRO_QTY'] = df_tto['TRO_QTY'].astype(int)\n",
    "\n",
    "\n"
   ]
  },
  {
   "cell_type": "code",
   "execution_count": null,
   "id": "c2462606",
   "metadata": {},
   "outputs": [],
   "source": []
  },
  {
   "cell_type": "code",
   "execution_count": null,
   "id": "f2a08258",
   "metadata": {},
   "outputs": [],
   "source": []
  },
  {
   "cell_type": "code",
   "execution_count": 8,
   "id": "19bb9658",
   "metadata": {},
   "outputs": [],
   "source": [
    "## USE THIS FOR GET PV DATA FROM DUMP DATA FILE (SADDDDD ALWAYS DEADLINE)\n",
    "\n",
    "df_mem_push = df_tto[['TRO_PONTA_ID']].drop_duplicates()\n",
    "from sqlalchemy import event,create_engine,types\n",
    "\n",
    "\n",
    "engine_stmt = \"oracle://%s:%s@%s/%s\" % ('report', 'justd0it', '10.234.152.61', 'alfabi' )\n",
    "engine = create_engine(engine_stmt)\n",
    "\n",
    "df = df_mem_push.astype(str)\n",
    "dtyp = {c:types.VARCHAR(df[c].str.len().max()) for c in df.columns[df.dtypes == 'object'].tolist()}\n",
    "df.to_sql('temp_churn', engine, index=False, if_exists=\"replace\", dtype=dtyp)\n",
    "\n",
    "engine.dispose()\n",
    "\n",
    "### USE THIS FOR GET PV DATA FROM DUMP DATA FILE (SADDDDD ALWAYS DEADLINE)\n",
    "\n",
    "# from google.oauth2.service_account import Credentials\n",
    "# import pandas_gbq\n",
    "\n",
    "# credentials = Credentials.from_service_account_file(\n",
    "#     '/home/server/gli-data-science/akhiyar/lib/gli-dw-alfagift-admin.json')\n",
    "# pandas_gbq.context.credentials = credentials\n",
    "\n",
    "# #TODO: Set project_id to your Google Cloud Platform project ID.\n",
    "# project_id = \"gli-dw-alfagift\"\n",
    "\n",
    "# #TODO: Set table_id to the full destination table ID (including the\n",
    "# #      dataset ID)\n",
    "# private_key = '/home/server/gli-data-science/akhiyar/lib/gli-dw-alfagift-admin.json'\n",
    "\n",
    "# table_id = 'data_science.temp_churn'\n",
    "# pandas_gbq.to_gbq(\n",
    "# df_mem_push,\n",
    "# table_id,\n",
    "# project_id=project_id,\n",
    "# if_exists = 'replace')"
   ]
  },
  {
   "cell_type": "code",
   "execution_count": 9,
   "id": "1fa36eb9",
   "metadata": {},
   "outputs": [
    {
     "name": "stdout",
     "output_type": "stream",
     "text": [
      "2022-06-01 2022-09-30\n"
     ]
    }
   ],
   "source": [
    "str_from = ((str_now - relativedelta(months=4)).replace(day=1)).strftime('%Y-%m-%d')\n",
    "str_until = ((str_now.replace(day=1)) - relativedelta(days=1)).strftime('%Y-%m-%d')\n",
    "print(str_from, str_until)"
   ]
  },
  {
   "cell_type": "code",
   "execution_count": null,
   "id": "13e1d5b8",
   "metadata": {},
   "outputs": [],
   "source": []
  },
  {
   "cell_type": "code",
   "execution_count": 10,
   "id": "93555d52",
   "metadata": {},
   "outputs": [],
   "source": [
    "cond1 = (df_tto['TRO_DATE'] >= str_from)\n",
    "cond2 = (df_tto['TRO_DATE'] <= str_until)\n",
    "df_tto_sel = df_tto[ cond1 & cond2 ]"
   ]
  },
  {
   "cell_type": "code",
   "execution_count": null,
   "id": "d944c249",
   "metadata": {},
   "outputs": [],
   "source": []
  },
  {
   "cell_type": "code",
   "execution_count": null,
   "id": "7bb69e00",
   "metadata": {},
   "outputs": [],
   "source": []
  },
  {
   "cell_type": "code",
   "execution_count": 11,
   "id": "727fd37f",
   "metadata": {},
   "outputs": [],
   "source": [
    "df_sla = pd.read_parquet('./feature/sla_{}'.format(str_now_month))\n",
    "df_sla['ATT_SEND_DATE_TOSTORE'] = pd.to_datetime(df_sla['ATT_SEND_DATE_TOSTORE'])\n",
    "df_sla['SLA'] = np.where(df_sla['SLA_NORM']< 0, 20, df_sla['SLA_NORM'])\n",
    "\n",
    "df_tto_sel = pd.merge(df_tto_sel, df_sla, left_on='TRO_NO_ORDER', right_on='ATT_ORDER_ID', how='left')\n",
    "\n",
    "col_drop = [\n",
    "    'ATT_ORDER_ID',\n",
    "    'ATT_ORDER_DATE',\n",
    "    'ATT_DELIVERY_DATE',\n",
    "    'ATT_SEND_DATE_TOSTORE',\n",
    "    'SLA_NORM'        \n",
    "]\n",
    "df_tto_sel = df_tto_sel.drop(col_drop,1)\n",
    "\n",
    "## create feature\n",
    "df_tto_sel['SLA'] = df_tto_sel['SLA'].fillna(20)\n",
    "df_tto_sel['SLA_LATE'] = np.where(df_tto_sel['SLA'] > 60, 1,0)"
   ]
  },
  {
   "cell_type": "code",
   "execution_count": null,
   "id": "ac19a87f",
   "metadata": {},
   "outputs": [],
   "source": []
  },
  {
   "cell_type": "code",
   "execution_count": null,
   "id": "84284b71",
   "metadata": {},
   "outputs": [],
   "source": []
  },
  {
   "cell_type": "code",
   "execution_count": 12,
   "id": "5bebda79",
   "metadata": {},
   "outputs": [],
   "source": [
    "\n",
    "# q = '''\n",
    "# SELECT \n",
    "# \ttc.TRO_PONTA_ID, \n",
    "# \t(TO_DATE('{}', 'YYYY-mm-dd')) - amc.AMC_REGISTER_DATE AS SINCE_REGIS\n",
    "# FROM \n",
    "# \tTEMP_CHURN tc\n",
    "# LEFT JOIN ALFAGIFT_MASTER_CUST amc \n",
    "# ON amc.AMC_MEMBER = tc.TRO_PONTA_ID \n",
    "\n",
    "\n",
    "# '''.format(str_until)\n",
    "\n",
    "\n",
    "# con = ds_db.connect_alfabi()\n",
    "\n",
    "# df_regis = pd.read_sql_query(q, con)\n",
    "# df_regis['SINCE_REGIS'] = df_regis['SINCE_REGIS'].fillna('-1')\n",
    "# con.close()\n",
    "\n",
    "\n",
    "df_regis = pd.read_parquet('./feature/regis_oct22')\n",
    "df_regis['SINCE_REGIS'] = pd.to_datetime(df_regis['SINCE_REGIS'])\n",
    "# df_regis['SINCE_REGIS_NOW'] = str_now\n",
    "df_regis['SINCE_REGIS'] = (str_now - df_regis['SINCE_REGIS']).dt.days"
   ]
  },
  {
   "cell_type": "code",
   "execution_count": null,
   "id": "beba6ce7",
   "metadata": {},
   "outputs": [],
   "source": []
  },
  {
   "cell_type": "code",
   "execution_count": null,
   "id": "e1f310ce",
   "metadata": {},
   "outputs": [],
   "source": []
  },
  {
   "cell_type": "code",
   "execution_count": 13,
   "id": "7437198c",
   "metadata": {},
   "outputs": [],
   "source": [
    "df_tto_sel['TRO_DATE_MONTH'] = (df_tto_sel['TRO_DATE'].dt.year.astype(str)\n",
    "                                + '-0' + df_tto_sel['TRO_DATE'].dt.month.astype(str))"
   ]
  },
  {
   "cell_type": "code",
   "execution_count": null,
   "id": "38cfabf9",
   "metadata": {},
   "outputs": [],
   "source": []
  },
  {
   "cell_type": "code",
   "execution_count": null,
   "id": "605691d9",
   "metadata": {},
   "outputs": [],
   "source": []
  },
  {
   "cell_type": "code",
   "execution_count": null,
   "id": "955f8d75",
   "metadata": {},
   "outputs": [],
   "source": []
  },
  {
   "cell_type": "code",
   "execution_count": null,
   "id": "e7899353",
   "metadata": {},
   "outputs": [],
   "source": [
    "df_tto_sel_g = df_tto_sel.groupby(['TRO_PONTA_ID','TRO_DATE_MONTH','TRO_NO_ORDER'])\\\n",
    "                        .agg({'TRO_NET':'sum',\n",
    "                              'TRO_NO_ORDER':'nunique',\n",
    "                              'SLA':'first',\n",
    "                              'SLA_LATE':'first',\n",
    "                              'TRO_PAYMENT_METHOD':'first'\n",
    "                             })\n",
    "df_tto_sel_g = df_tto_sel_g.groupby(['TRO_PONTA_ID','TRO_DATE_MONTH'])\\\n",
    "                        .agg({'TRO_NET':'sum',\n",
    "                              'TRO_NO_ORDER':'sum',\n",
    "                              'SLA':'sum',\n",
    "                              'SLA_LATE':'sum',\n",
    "                              'TRO_PAYMENT_METHOD':'nunique'\n",
    "                             })"
   ]
  },
  {
   "cell_type": "code",
   "execution_count": null,
   "id": "afc963d1",
   "metadata": {},
   "outputs": [],
   "source": [
    "df_tto_sel_g.head()"
   ]
  },
  {
   "cell_type": "code",
   "execution_count": null,
   "id": "ea77351f",
   "metadata": {},
   "outputs": [],
   "source": []
  },
  {
   "cell_type": "markdown",
   "id": "e64ffc5f",
   "metadata": {},
   "source": [
    "### unstack all feature in oshop"
   ]
  },
  {
   "cell_type": "code",
   "execution_count": null,
   "id": "d5a1037a",
   "metadata": {},
   "outputs": [],
   "source": [
    "df_tto_sel_g_u = df_tto_sel_g.unstack(level=1).fillna(0).reset_index()\n",
    "df_tto_sel_g_u.columns = [' '.join(col).strip().upper() for col in df_tto_sel_g_u.columns.values]"
   ]
  },
  {
   "cell_type": "code",
   "execution_count": null,
   "id": "98377993",
   "metadata": {},
   "outputs": [],
   "source": []
  },
  {
   "cell_type": "markdown",
   "id": "6a356bb1",
   "metadata": {},
   "source": [
    "## merge with rating"
   ]
  },
  {
   "cell_type": "code",
   "execution_count": null,
   "id": "f6465cfc",
   "metadata": {},
   "outputs": [],
   "source": [
    "df_re_g_u['TRO_PONTA_ID'] = df_re_g_u['TRO_PONTA_ID'].astype(str)\n",
    "df_tto_re = pd.merge(df_tto_sel_g_u, df_re_g_u, on='TRO_PONTA_ID', how='left').fillna(0)"
   ]
  },
  {
   "cell_type": "code",
   "execution_count": null,
   "id": "ceda59bf",
   "metadata": {},
   "outputs": [],
   "source": []
  },
  {
   "cell_type": "markdown",
   "id": "2e9b291c",
   "metadata": {},
   "source": [
    "## merge with product view"
   ]
  },
  {
   "cell_type": "code",
   "execution_count": null,
   "id": "840738f5",
   "metadata": {},
   "outputs": [],
   "source": [
    "df_pv['TRO_PONTA_ID'] = df_pv['TRO_PONTA_ID'].astype(str)\n",
    "df_tto_re_pv = pd.merge(df_tto_re, df_pv, on='TRO_PONTA_ID', how='left').fillna(0)"
   ]
  },
  {
   "cell_type": "code",
   "execution_count": null,
   "id": "73343a32",
   "metadata": {},
   "outputs": [],
   "source": []
  },
  {
   "cell_type": "markdown",
   "id": "1b305c38",
   "metadata": {},
   "source": [
    "## merge with regis"
   ]
  },
  {
   "cell_type": "code",
   "execution_count": null,
   "id": "c40e9616",
   "metadata": {},
   "outputs": [],
   "source": [
    "df_tto_re_pv = pd.merge(df_tto_re_pv, df_regis, on='TRO_PONTA_ID')\n",
    "df_tto_re_pv = df_tto_re_pv[df_tto_re_pv['SINCE_REGIS'].astype(int) > 0]"
   ]
  },
  {
   "cell_type": "code",
   "execution_count": null,
   "id": "907a3be8",
   "metadata": {},
   "outputs": [],
   "source": []
  },
  {
   "cell_type": "code",
   "execution_count": null,
   "id": "c1af15bd",
   "metadata": {},
   "outputs": [],
   "source": []
  },
  {
   "cell_type": "code",
   "execution_count": null,
   "id": "fda6af2b",
   "metadata": {},
   "outputs": [],
   "source": []
  },
  {
   "cell_type": "code",
   "execution_count": null,
   "id": "480a9dd8",
   "metadata": {},
   "outputs": [],
   "source": [
    "f1 = (str_now-relativedelta(months=1)).strftime('%Y-%m')\n",
    "f2 = (str_now-relativedelta(months=2)).strftime('%Y-%m')\n",
    "f3 = (str_now-relativedelta(months=3)).strftime('%Y-%m')\n",
    "f4 = (str_now-relativedelta(months=4)).strftime('%Y-%m')"
   ]
  },
  {
   "cell_type": "code",
   "execution_count": null,
   "id": "3c1e36ac",
   "metadata": {},
   "outputs": [],
   "source": [
    "print(f1,f2,f3,f4)"
   ]
  },
  {
   "cell_type": "code",
   "execution_count": null,
   "id": "770e3233",
   "metadata": {},
   "outputs": [],
   "source": []
  },
  {
   "cell_type": "code",
   "execution_count": null,
   "id": "27e5d5d5",
   "metadata": {},
   "outputs": [],
   "source": []
  },
  {
   "cell_type": "code",
   "execution_count": null,
   "id": "9aaa75a8",
   "metadata": {},
   "outputs": [],
   "source": []
  },
  {
   "cell_type": "markdown",
   "id": "0a017c0d",
   "metadata": {},
   "source": [
    "## Random Forest"
   ]
  },
  {
   "cell_type": "markdown",
   "id": "3910011b",
   "metadata": {},
   "source": [
    "### not oversampling version without threshold 2/3 or 3/3"
   ]
  },
  {
   "cell_type": "code",
   "execution_count": null,
   "id": "aabc6129",
   "metadata": {
    "scrolled": false
   },
   "outputs": [],
   "source": [
    "from sklearn.model_selection import StratifiedKFold\n",
    "condition_2_3 = (\n",
    "((df_tto_re_pv['TRO_NET {}'.format(f4)] > 0) & \\\n",
    "(df_tto_re_pv['TRO_NET {}'.format(f3)] > 0) & \\\n",
    "(df_tto_re_pv['TRO_NET {}'.format(f2)] > 0) & \\\n",
    "(df_tto_re_pv['TRO_NET {}'.format(f1)] == 0)) | \\\n",
    "    \n",
    "((df_tto_re_pv['TRO_NET {}'.format(f4)] > 0) & \\\n",
    "(df_tto_re_pv['TRO_NET {}'.format(f3)] == 0) & \\\n",
    "(df_tto_re_pv['TRO_NET {}'.format(f2)] > 0) & \\\n",
    "(df_tto_re_pv['TRO_NET {}'.format(f1)] == 0)) |\n",
    "    \n",
    "((df_tto_re_pv['TRO_NET {}'.format(f4)] == 0) & \\\n",
    "(df_tto_re_pv['TRO_NET {}'.format(f3)] > 0) & \\\n",
    "(df_tto_re_pv['TRO_NET {}'.format(f2)] > 0) & \\\n",
    "(df_tto_re_pv['TRO_NET {}'.format(f1)] == 0))\n",
    ")\n",
    "\n",
    "condition_3_3 = ( \n",
    "          (df_tto_re_pv['TRO_NET {}'.format(f4)] > 0) & \\\n",
    "          (df_tto_re_pv['TRO_NET {}'.format(f3)] > 0) & \\\n",
    "          (df_tto_re_pv['TRO_NET {}'.format(f2)] > 0) & \\\n",
    "          (df_tto_re_pv['TRO_NET {}'.format(f1)] == 0) \n",
    ")\n",
    "\n",
    "df_tto_re_pv['label'] = np.where(condition_3_3, 1, 0)\n",
    "\n",
    "\n",
    "X = df_tto_re_pv.drop(\n",
    "[\n",
    "'TRO_PONTA_ID',\n",
    "'TRO_NET {}'.format(f1), \n",
    "'TRO_NO_ORDER {}'.format(f1),\n",
    "'SLA {}'.format(f1),\n",
    "'SLA_LATE {}'.format(f1),\n",
    "'RATING_BELOW {}'.format(f1),\n",
    "'RATING_AVG {}'.format(f1),\n",
    "'PV {}'.format(f1),\n",
    "'TRO_PAYMENT_METHOD {}'.format(f1),\n",
    "'label'\n",
    "], 1\n",
    ")\n",
    "y = df_tto_re_pv[['label']]\n",
    "\n",
    "\n",
    "# applying standard scaler\n",
    "scaler = StandardScaler()\n",
    "scaler.fit(X)\n",
    "X = pd.DataFrame(scaler.transform(X), index=X.index, columns=X.columns)\n",
    "dump(scaler, './model/scaler_{}.joblib'.format(str_now_month))\n",
    "\n",
    "\n",
    "clf_all_mlp = MLPClassifier(random_state=1, max_iter=300, hidden_layer_sizes=(70,))\n",
    "clf_all_mlp.fit(X, y) \n",
    "dump(clf_all_mlp, './model/mlp_{}.joblib'.format(str_now_month))\n",
    "\n",
    "\n"
   ]
  },
  {
   "cell_type": "code",
   "execution_count": null,
   "id": "f1dc61d0",
   "metadata": {},
   "outputs": [],
   "source": []
  },
  {
   "cell_type": "code",
   "execution_count": null,
   "id": "49d42b08",
   "metadata": {},
   "outputs": [],
   "source": []
  },
  {
   "cell_type": "code",
   "execution_count": null,
   "id": "e3ae99f0",
   "metadata": {},
   "outputs": [],
   "source": []
  },
  {
   "cell_type": "code",
   "execution_count": null,
   "id": "fb936a6d",
   "metadata": {},
   "outputs": [],
   "source": []
  },
  {
   "cell_type": "code",
   "execution_count": null,
   "id": "3058fe33",
   "metadata": {},
   "outputs": [],
   "source": []
  },
  {
   "cell_type": "code",
   "execution_count": null,
   "id": "4c7fd86f",
   "metadata": {},
   "outputs": [],
   "source": [
    "X_12 = df_tto_re_pv.drop(\n",
    "[\n",
    "'TRO_PONTA_ID',\n",
    "'TRO_NET {}'.format(f1), \n",
    "'TRO_NO_ORDER {}'.format(f1),\n",
    "'SLA {}'.format(f1),\n",
    "'SLA_LATE {}'.format(f1),\n",
    "'RATING_BELOW {}'.format(f1),\n",
    "'RATING_AVG {}'.format(f1),\n",
    "'PV {}'.format(f1),\n",
    "'TRO_PAYMENT_METHOD {}'.format(f1),\n",
    "'label'\n",
    "], 1\n",
    ")\n",
    "X_12['SINCE_REGIS'] = X_12['SINCE_REGIS']+30"
   ]
  },
  {
   "cell_type": "code",
   "execution_count": null,
   "id": "2cce9492",
   "metadata": {},
   "outputs": [],
   "source": []
  },
  {
   "cell_type": "code",
   "execution_count": null,
   "id": "ec7bb682",
   "metadata": {},
   "outputs": [],
   "source": []
  },
  {
   "cell_type": "markdown",
   "id": "8c23cbff",
   "metadata": {},
   "source": [
    "### do a prediction"
   ]
  },
  {
   "cell_type": "code",
   "execution_count": null,
   "id": "4bd3d1b5",
   "metadata": {},
   "outputs": [],
   "source": [
    "scaler_all = load('./model/scaler_{}.joblib'.format(str_now_month))\n",
    "clf_all = load('./model/mlp_{}.joblib'.format(str_now_month))\n",
    "\n",
    "\n",
    "X_12_scale = pd.DataFrame(scaler_all.transform(X_12), index=X_12.index, columns=X_12.columns)\n",
    "pred = (clf_all.predict_proba(X_12_scale)[:,1] >= 0.52).astype(int)\n",
    "\n",
    "c_pred = [\n",
    "    df_tto_re_pv[['TRO_PONTA_ID']].reset_index(drop=True),\n",
    "    pd.DataFrame(pred, columns=['PRED'])\n",
    "]\n",
    "df_mem_12 = pd.concat(c_pred, 1)"
   ]
  },
  {
   "cell_type": "code",
   "execution_count": null,
   "id": "af4c1258",
   "metadata": {},
   "outputs": [],
   "source": [
    "print(\"PREDICTION RESULT {}\".format(df_mem_12[df_mem_12['PRED'] == 1].shape))"
   ]
  },
  {
   "cell_type": "code",
   "execution_count": null,
   "id": "e3aa0612",
   "metadata": {},
   "outputs": [],
   "source": [
    "df_trader = pd.read_excel(\n",
    "    '/home/server/gli-data-science/ferina/Sales Trader Ytd Aug-ExEmployee.xlsx'\n",
    "    , dtype='object', names=['member','stat']\n",
    ")"
   ]
  },
  {
   "cell_type": "code",
   "execution_count": null,
   "id": "c2b47d50",
   "metadata": {},
   "outputs": [],
   "source": [
    "df_mem_12 = df_mem_12[~df_mem_12['TRO_PONTA_ID'].isin(df_trader['member'])]"
   ]
  },
  {
   "cell_type": "code",
   "execution_count": null,
   "id": "1edd84bc",
   "metadata": {},
   "outputs": [],
   "source": [
    "print(\"AFTER REMOVE TRADER {}\".format(df_mem_12[df_mem_12['PRED'] == 1].shape))"
   ]
  },
  {
   "cell_type": "code",
   "execution_count": null,
   "id": "c3c96f3e",
   "metadata": {},
   "outputs": [],
   "source": []
  },
  {
   "cell_type": "code",
   "execution_count": null,
   "id": "e9cb8815",
   "metadata": {},
   "outputs": [],
   "source": []
  },
  {
   "cell_type": "code",
   "execution_count": null,
   "id": "8c46ec99",
   "metadata": {},
   "outputs": [],
   "source": []
  },
  {
   "cell_type": "code",
   "execution_count": null,
   "id": "f1e95c8f",
   "metadata": {},
   "outputs": [],
   "source": [
    "engine = create_engine(engine_stmt)\n",
    "\n",
    "df = df_mem_12[df_mem_12['PRED'] == 1].astype(str)\n",
    "dtyp = {c:types.VARCHAR(df[c].str.len().max()) for c in df.columns[df.dtypes == 'object'].tolist()}\n",
    "df.to_sql('temp_churn_target', engine, index=False, if_exists=\"replace\", dtype=dtyp)\n",
    "\n",
    "engine.dispose()"
   ]
  },
  {
   "cell_type": "code",
   "execution_count": null,
   "id": "f42051f1",
   "metadata": {},
   "outputs": [],
   "source": []
  },
  {
   "cell_type": "code",
   "execution_count": null,
   "id": "2dfcb12b",
   "metadata": {},
   "outputs": [],
   "source": []
  },
  {
   "cell_type": "code",
   "execution_count": null,
   "id": "f0fec039",
   "metadata": {},
   "outputs": [],
   "source": [
    "start_q = (str_now.replace(day=1)).strftime('%d-%b-%y')\n",
    "end_q = (str_now+relativedelta(months=1)).replace(day=1).strftime('%d-%b-%y')"
   ]
  },
  {
   "cell_type": "code",
   "execution_count": null,
   "id": "7c596e9f",
   "metadata": {},
   "outputs": [],
   "source": [
    "q = '''\n",
    "\n",
    "SELECT DISTINCT(tct.TRO_PONTA_ID) AS TRO_PONTA_ID \n",
    "FROM TEMP_CHURN_TARGET tct\n",
    "LEFT JOIN (\n",
    "\tSELECT \n",
    "\t\tgua.GUA_ACCOUNT_CARD_ADJ\n",
    "\tFROM GLI_UNINSTALL_ALFAGIFT gua \n",
    "\tWHERE \n",
    "\t\tgua.GUA_STATUS = 'Y'\n",
    "\t\tAND trunc(GUA_UNINSTALL_DATE) BETWEEN '01-aug-21' AND '{}'\n",
    ")gua\n",
    "ON gua.GUA_ACCOUNT_CARD_ADJ = tct.TRO_PONTA_ID \n",
    "LEFT JOIN (\n",
    "\tSELECT \n",
    "\t\trto.TRO_PONTA_ID\n",
    "\tFROM \n",
    "\t\trpt_trans_oshop rto\n",
    "\tWHERE \n",
    "\t\trto.TRO_DATE BETWEEN '{}' AND '{}'\n",
    ")rto\n",
    "ON rto.TRO_PONTA_ID = tct.TRO_PONTA_ID \n",
    "LEFT JOIN (\n",
    "\tSELECT \n",
    "\t\tamc.AMC_MEMBER\n",
    "\tFROM \n",
    "\t\tALFAGIFT_MASTER_CUST amc\n",
    "\tWHERE \n",
    "\t\tamc.AMC_FLAG_FRAUD = 'Y'\n",
    ")amc\n",
    "ON amc.AMC_MEMBER = tct.TRO_PONTA_ID \n",
    "WHERE gua.GUA_ACCOUNT_CARD_ADJ IS NULL\n",
    "AND rto.TRO_PONTA_ID IS NULL\n",
    "AND amc.AMC_MEMBER IS NULL\n",
    "\n",
    "'''.format(end_q, start_q, end_q)\n",
    "\n",
    "\n",
    "con = ds_db.connect_alfabi()\n",
    "df_churn_sel = pd.read_sql_query(q, con)\n",
    "con.close()\n"
   ]
  },
  {
   "cell_type": "code",
   "execution_count": null,
   "id": "63701686",
   "metadata": {},
   "outputs": [],
   "source": []
  },
  {
   "cell_type": "code",
   "execution_count": null,
   "id": "4e106c5b",
   "metadata": {},
   "outputs": [],
   "source": []
  },
  {
   "cell_type": "code",
   "execution_count": null,
   "id": "e58ac7a1",
   "metadata": {},
   "outputs": [],
   "source": []
  },
  {
   "cell_type": "code",
   "execution_count": null,
   "id": "355cf9ef",
   "metadata": {},
   "outputs": [],
   "source": []
  },
  {
   "cell_type": "code",
   "execution_count": null,
   "id": "a534ba4a",
   "metadata": {},
   "outputs": [],
   "source": []
  },
  {
   "cell_type": "code",
   "execution_count": null,
   "id": "3d5df7d5",
   "metadata": {},
   "outputs": [],
   "source": [
    "df_churn_sel['PERIOD'] = str_now.replace(day=1).strftime('%Y-%m-%d')\n",
    "df_churn_sel['PERIOD'] = pd.to_datetime(df_churn_sel['PERIOD'])\n",
    "df_churn_sel = df_churn_sel[['PERIOD','TRO_PONTA_ID']].rename(columns={'TRO_PONTA_ID':'MEMBER'})\n",
    "df_churn_all = df_churn_sel.copy()"
   ]
  },
  {
   "cell_type": "code",
   "execution_count": null,
   "id": "f865746a",
   "metadata": {},
   "outputs": [],
   "source": [
    "print('HASIL AKHIR {}'.format(df_churn_all.shape))"
   ]
  },
  {
   "cell_type": "code",
   "execution_count": null,
   "id": "c07597a6",
   "metadata": {},
   "outputs": [],
   "source": []
  },
  {
   "cell_type": "code",
   "execution_count": null,
   "id": "0d68a985",
   "metadata": {},
   "outputs": [],
   "source": []
  },
  {
   "cell_type": "code",
   "execution_count": null,
   "id": "6acad0e6",
   "metadata": {},
   "outputs": [],
   "source": [
    "\n",
    "\n",
    "from sqlalchemy import event,create_engine,types\n",
    "engine_alfabi_smt = \"oracle://%s:%s@%s/%s\" % ( 'report', 'justd0it', '10.234.152.61', 'alfabi' )\n",
    "    \n",
    "engine = create_engine(engine_alfabi_smt)\n",
    "\n",
    "q = '''\n",
    "\n",
    "DELETE FROM ALFAGIFT_CHURN\n",
    "WHERE PERIOD = '{}'\n",
    "\n",
    "'''.format(str_now.replace(day=1).strftime('%d-%b-%y'))\n",
    "\n",
    "con = engine.connect()\n",
    "con.execute(q)\n",
    "\n",
    "df = df_churn_all.copy()\n",
    "dtype = {c:types.VARCHAR(df[c].str.len().max()) for c in df.columns[df.dtypes == 'object'].tolist()}\n",
    "df.to_sql('ALFAGIFT_CHURN', engine, index=False, if_exists=\"append\", dtype=dtype)\n",
    "\n",
    "\n",
    "\n",
    "engine.dispose()"
   ]
  },
  {
   "cell_type": "code",
   "execution_count": null,
   "id": "218c72ef",
   "metadata": {},
   "outputs": [],
   "source": []
  },
  {
   "cell_type": "code",
   "execution_count": null,
   "id": "2d60ea99",
   "metadata": {},
   "outputs": [],
   "source": []
  },
  {
   "cell_type": "code",
   "execution_count": null,
   "id": "f2a9405c",
   "metadata": {},
   "outputs": [],
   "source": []
  },
  {
   "cell_type": "code",
   "execution_count": null,
   "id": "7d93aced",
   "metadata": {},
   "outputs": [],
   "source": []
  },
  {
   "cell_type": "code",
   "execution_count": null,
   "id": "5a9f3658",
   "metadata": {},
   "outputs": [],
   "source": [
    "df_churn_view = pd.merge(\n",
    "    df_churn_sel,df_tto_re_pv,\n",
    "    left_on='MEMBER',\n",
    "    right_on='TRO_PONTA_ID',\n",
    "    how='left'\n",
    ")\n",
    "df_churn_view.head(20)"
   ]
  },
  {
   "cell_type": "code",
   "execution_count": null,
   "id": "e439fd96",
   "metadata": {},
   "outputs": [],
   "source": []
  },
  {
   "cell_type": "code",
   "execution_count": null,
   "id": "7722deac",
   "metadata": {},
   "outputs": [],
   "source": []
  },
  {
   "cell_type": "code",
   "execution_count": null,
   "id": "91f9d85a",
   "metadata": {},
   "outputs": [],
   "source": []
  },
  {
   "cell_type": "code",
   "execution_count": null,
   "id": "403953d8",
   "metadata": {},
   "outputs": [],
   "source": []
  },
  {
   "cell_type": "code",
   "execution_count": null,
   "id": "c2a410fa",
   "metadata": {},
   "outputs": [],
   "source": []
  },
  {
   "cell_type": "code",
   "execution_count": null,
   "id": "b989361f",
   "metadata": {},
   "outputs": [],
   "source": []
  },
  {
   "cell_type": "code",
   "execution_count": null,
   "id": "19329360",
   "metadata": {},
   "outputs": [],
   "source": []
  }
 ],
 "metadata": {
  "kernelspec": {
   "display_name": "Python 3",
   "language": "python",
   "name": "python3"
  },
  "language_info": {
   "codemirror_mode": {
    "name": "ipython",
    "version": 3
   },
   "file_extension": ".py",
   "mimetype": "text/x-python",
   "name": "python",
   "nbconvert_exporter": "python",
   "pygments_lexer": "ipython3",
   "version": "3.8.5"
  }
 },
 "nbformat": 4,
 "nbformat_minor": 5
}
